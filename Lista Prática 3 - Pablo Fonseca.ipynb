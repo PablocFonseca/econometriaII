{
 "cells": [
  {
   "cell_type": "markdown",
   "metadata": {},
   "source": [
    "Lista Prática 3 - Pablo Corrêa Fonseca"
   ]
  },
  {
   "cell_type": "code",
   "execution_count": 42,
   "metadata": {},
   "outputs": [],
   "source": [
    "library(xts)"
   ]
  },
  {
   "cell_type": "markdown",
   "metadata": {},
   "source": [
    "Exercício 1: <br>\n",
    "\n",
    "Considere os seguintes ativos, referentes a ações de empresas dos subsetores de\n",
    "Agropecuária e Alimentos processados negociadas na Bovespa:\n",
    "- AGRO3 = BRASILAGRO ON (Agropecuária).\n",
    "- SLCE3 = SLC AGRICOLA ON (Agropecuária).\n",
    "- BEEF3 = MINERVA ON (Alimentos processados/Carnes e derivados).\n",
    "- BRFS3 = BRF SA ON (Alimentos processados/Carnes e derivados).\n",
    "- JBSS3 = JBS ON (Alimentos processados/Carnes e derivados).\n",
    "- MRFG3 = MARFRIG ON (Alimentos processados/Carnes e derivados).\n",
    "\n",
    "**(1) Importe para o R os dados do arquivo “bovespa_01.csv”, com os preços de fechamento\n",
    "de cada ativo, crie os respectivos logaritmos e converta para séries de tempo usando o\n",
    "comando “ts”.**"
   ]
  },
  {
   "cell_type": "code",
   "execution_count": 3,
   "metadata": {},
   "outputs": [
    {
     "data": {
      "text/plain": [
       "              AGRO3    SLCE3    BEEF3    BRFS3    JBSS3    MRFG3\n",
       "2015-01-02 2.157559 2.610070 2.249184 4.130033 2.358965 1.733424\n",
       "2015-01-05 2.163323 2.610070 2.208274 4.110874 2.364620 1.652497\n",
       "2015-01-06 2.179287 2.621766 2.187174 4.119850 2.342767 1.633154\n",
       "2015-01-07 2.179287 2.653242 2.246015 4.163560 2.364620 1.669592\n",
       "2015-01-08 2.163323 2.656055 2.240710 4.145513 2.370244 1.695616\n",
       "2015-01-09 2.167910 2.646175 2.227862 4.123580 2.344686 1.704748"
      ]
     },
     "metadata": {},
     "output_type": "display_data"
    }
   ],
   "source": [
    "dados = read.csv('bovespa_01.csv', sep=';')\n",
    "dados = transform(dados, X = as.Date(as.character(X), \"%Y%m%d\"))\n",
    "dados = xts(dados[0:-1], dados$X) /100\n",
    "dados = log(dados)\n",
    "head(dados)"
   ]
  },
  {
   "cell_type": "markdown",
   "metadata": {},
   "source": [
    "<hr>"
   ]
  },
  {
   "cell_type": "markdown",
   "metadata": {
    "collapsed": true
   },
   "source": [
    "**(2) Gere gráficos de cada série. Comente sobre a possível estacionariedade ou não-estacionariedade dos processos geradores subjacentes.**"
   ]
  },
  {
   "cell_type": "code",
   "execution_count": 4,
   "metadata": {},
   "outputs": [
    {
     "data": {},
     "metadata": {},
     "output_type": "display_data"
    },
    {
     "data": {},
     "metadata": {},
     "output_type": "display_data"
    },
    {
     "data": {},
     "metadata": {},
     "output_type": "display_data"
    },
    {
     "data": {},
     "metadata": {},
     "output_type": "display_data"
    },
    {
     "data": {},
     "metadata": {},
     "output_type": "display_data"
    },
    {
     "data": {},
     "metadata": {},
     "output_type": "display_data"
    },
    {
     "data": {
      "image/png": "[encoded data removed]",
      "text/plain": [
       "plot without title"
      ]
     },
     "metadata": {},
     "output_type": "display_data"
    }
   ],
   "source": [
    "op = par(mfrow=c(3,2))\n",
    "plot.xts(dados$AGRO3)\n",
    "plot.xts(dados$SLCE3)\n",
    "plot.xts(dados$BEEF3)\n",
    "plot.xts(dados$BRFS3)\n",
    "plot.xts(dados$JBSS3)\n",
    "plot.xts(dados$MRFG3)"
   ]
  },
  {
   "cell_type": "markdown",
   "metadata": {},
   "source": [
    "Pela análise dos gráficos, nota-se que nenhum dos gráficos aparenta ser estacionário em todo o intervalo de tempo. Por exemolo em BRFS3 podemos ver dois perídos estacionários separados por uma quebra estrutural no último trimestre de 2015\n",
    "<hr>"
   ]
  },
  {
   "cell_type": "markdown",
   "metadata": {},
   "source": [
    "**(3) Identifique a ordem de integração de cada série, por meio de testes de raiz unitária do tipo ADF para cada série logarítmica em nível e em primeira diferença.**\n",
    "\n",
    "Valores Críticos Assintóticos do Teste ADF e do teste Z-tau de Phillips-Perron a 5%:\n",
    "- Equação sem constante/tendência: -1,95\n",
    "- Equação com constante: -2,86\n",
    "- Equação com constante e tendência -3,41"
   ]
  },
  {
   "cell_type": "code",
   "execution_count": 5,
   "metadata": {
    "collapsed": true
   },
   "outputs": [],
   "source": [
    "library('urca')"
   ]
  },
  {
   "cell_type": "markdown",
   "metadata": {},
   "source": [
    "Testes ADF em Nível"
   ]
  },
  {
   "cell_type": "code",
   "execution_count": 6,
   "metadata": {},
   "outputs": [
    {
     "name": "stdout",
     "output_type": "stream",
     "text": [
      "[1] \"TICKER Tipo t rejeita H0\"\n",
      "[1] \"AGRO3 none 0.539 FALSE\"\n",
      "[1] \"AGRO3 drift -2.1029 FALSE\"\n",
      "[1] \"AGRO3 trend -2.294 FALSE\"\n",
      "[1] \"SLCE3 none 0.0738 FALSE\"\n",
      "[1] \"SLCE3 drift -2.3657 FALSE\"\n",
      "[1] \"SLCE3 trend -2.8203 FALSE\"\n",
      "[1] \"BEEF3 none 0.1519 FALSE\"\n",
      "[1] \"BEEF3 drift -1.771 FALSE\"\n",
      "[1] \"BEEF3 trend -1.7068 FALSE\"\n",
      "[1] \"BRFS3 none -0.4955 FALSE\"\n",
      "[1] \"BRFS3 drift -1.303 FALSE\"\n",
      "[1] \"BRFS3 trend -2.026 FALSE\"\n",
      "[1] \"JBSS3 none 0.124 FALSE\"\n",
      "[1] \"JBSS3 drift -1.5189 FALSE\"\n",
      "[1] \"JBSS3 trend -2.413 FALSE\"\n",
      "[1] \"MRFG3 none 0.0772 FALSE\"\n",
      "[1] \"MRFG3 drift -1.6016 FALSE\"\n",
      "[1] \"MRFG3 trend -1.9138 FALSE\"\n"
     ]
    }
   ],
   "source": [
    "ci = c(none=-1.95,drift=-2.86,trend=-3.41)\n",
    "print(paste('TICKER','Tipo','t','rejeita H0' ))\n",
    "for (col in 1:6){\n",
    "    for (type in c('none', 'drift', 'trend')){\n",
    "      tr = ur.df(dados[,col], type = type, lags = 6, selectlags = \"BIC\")@teststat[1]\n",
    "      reject_h0 = ci[type] > tr\n",
    "      print(paste(colnames(dados)[col], type, round(tr,4), reject_h0 ))\n",
    "}}"
   ]
  },
  {
   "cell_type": "markdown",
   "metadata": {},
   "source": [
    "Testes ADF primeira diferença:"
   ]
  },
  {
   "cell_type": "code",
   "execution_count": 7,
   "metadata": {},
   "outputs": [
    {
     "name": "stdout",
     "output_type": "stream",
     "text": [
      "[1] \"TICKER Tipo t rejeita H0\"\n",
      "[1] \"AGRO3 none -14.0979 TRUE\"\n",
      "[1] \"AGRO3 drift -14.1052 TRUE\"\n",
      "[1] \"AGRO3 trend -14.1258 TRUE\"\n",
      "[1] \"SLCE3 none -17.0412 TRUE\"\n",
      "[1] \"SLCE3 drift -17.022 TRUE\"\n",
      "[1] \"SLCE3 trend -17.0215 TRUE\"\n",
      "[1] \"BEEF3 none -14.4941 TRUE\"\n",
      "[1] \"BEEF3 drift -14.4801 TRUE\"\n",
      "[1] \"BEEF3 trend -14.4727 TRUE\"\n",
      "[1] \"BRFS3 none -14.3194 TRUE\"\n",
      "[1] \"BRFS3 drift -14.31 TRUE\"\n",
      "[1] \"BRFS3 trend -14.295 TRUE\"\n",
      "[1] \"JBSS3 none -15.3728 TRUE\"\n",
      "[1] \"JBSS3 drift -15.3593 TRUE\"\n",
      "[1] \"JBSS3 trend -15.3811 TRUE\"\n",
      "[1] \"MRFG3 none -17.1253 TRUE\"\n",
      "[1] \"MRFG3 drift -17.11 TRUE\"\n",
      "[1] \"MRFG3 trend -17.0903 TRUE\"\n"
     ]
    }
   ],
   "source": [
    "ci = c(none=-1.95,drift=-2.86,trend=-3.41)\n",
    "print(paste('TICKER','Tipo','t','rejeita H0' ))\n",
    "for (col in 1:6){\n",
    "    for (type in c('none', 'drift', 'trend')){\n",
    "      tr = ur.df(na.omit(diff(dados[,col])), type = type, lags = 6, selectlags = \"BIC\")@teststat[1]\n",
    "      reject_h0 = ci[type] > tr\n",
    "      print(paste(colnames(dados)[col], type, round(tr,4), reject_h0 ))\n",
    "}}"
   ]
  },
  {
   "cell_type": "markdown",
   "metadata": {},
   "source": [
    "Com base nos testes ADF anteriores conclui-se que todas as séries possuem raíz unitária em nível, e que podemos rejeitar H0 para as séries em diferença\n",
    "<hr>"
   ]
  },
  {
   "cell_type": "markdown",
   "metadata": {},
   "source": [
    "**(4) Realize, para as variáveis AGRO e BEEF, também os seguintes testes de raiz unitária: Phillips-Perron (ur.pp – usando estatística “Z-tau”), DF-GLS de Elliott et al. (ur.ers), KPSS de Kwiatowski et al. (ur.kpss) e Zivot e Andrews (ur.za – considerando as possibilidades de quebra apenas no intercepto, na tendência ou ambos). Compare os resultados com aqueles obtidos pelo teste ADF. **\n",
    "\n",
    "- Obs.1: o teste DF-GLS consiste em um teste ADF aplicado à variável “sem tendência”, obtida como o resíduo de uma regressão da variável em termos determinísticos (constante e tendência, ou apenas constante) – sob a hipótese de um erro AR(1). O teste apresenta maior potência e melhor desempenho em pequenas amostras relativamente ao teste ADF.\n",
    "\n",
    "\n",
    "- Obs.2: o teste de Zivot-Andrews consiste na aplicação de testes ADF levando em consideração a possibilidade de uma quebra estrutural (no intercepto ou na tendência da regressão de teste). A hipótese nula é a presença de raiz unitária, sem quebra. A hipótese alternativa é a ausência de raiz unitária, com uma quebra. O teste é realizado para todas as possíveis datas de quebra, selecionando-se a data que minimiza a estatística-ADF. Os valores críticos do teste levam em consideração o fato de que a data de quebra é selecionada endogenamente.\n",
    "\n",
    "\n",
    "- Obs.3: o teste de Kwiatowski et al. (KPSS), diferentemente dos anteriores, tem como hipótese nula a estacionariedade do processo analisado. Supõe-se que o processo possa ser escrito como a soma de um passeio aleatório e um processo estacionário (além de, possivelmente, uma tendência determinística), e testa-se a hipótese nula de que a variância do passeio aleatório é zero – o que significa que o processo analisado é estacionário em torno de uma constante (ou de uma tendência determinística)."
   ]
  },
  {
   "cell_type": "markdown",
   "metadata": {},
   "source": [
    "##### Testando para AGRO 3 em Nível:"
   ]
  },
  {
   "cell_type": "code",
   "execution_count": 8,
   "metadata": {
    "scrolled": true
   },
   "outputs": [
    {
     "data": {
      "text/plain": [
       "\n",
       "################################## \n",
       "# Phillips-Perron Unit Root Test # \n",
       "################################## \n",
       "\n",
       "Test regression with intercept \n",
       "\n",
       "\n",
       "Call:\n",
       "lm(formula = y ~ y.l1)\n",
       "\n",
       "Residuals:\n",
       "      Min        1Q    Median        3Q       Max \n",
       "-0.146560 -0.007107 -0.000337  0.005846  0.077017 \n",
       "\n",
       "Coefficients:\n",
       "            Estimate Std. Error t value Pr(>|t|)    \n",
       "(Intercept) 0.031558   0.015518   2.034   0.0426 *  \n",
       "y.l1        0.986935   0.006533 151.059   <2e-16 ***\n",
       "---\n",
       "Signif. codes:  0 '***' 0.001 '**' 0.01 '*' 0.05 '.' 0.1 ' ' 1\n",
       "\n",
       "Residual standard error: 0.01665 on 447 degrees of freedom\n",
       "Multiple R-squared:  0.9808,\tAdjusted R-squared:  0.9807 \n",
       "F-statistic: 2.282e+04 on 1 and 447 DF,  p-value: < 2.2e-16\n",
       "\n",
       "\n",
       "Value of test-statistic, type: Z-tau  is: -2.0562 \n",
       "\n",
       "         aux. Z statistics\n",
       "Z-tau-mu             2.088\n",
       "\n",
       "Critical values for Z statistics: \n",
       "                     1pct      5pct     10pct\n",
       "critical values -3.447006 -2.868239 -2.570325\n"
      ]
     },
     "metadata": {},
     "output_type": "display_data"
    },
    {
     "data": {
      "text/plain": [
       "\n",
       "############################################### \n",
       "# Elliot, Rothenberg and Stock Unit Root Test # \n",
       "############################################### \n",
       "\n",
       "Test of type DF-GLS \n",
       "detrending of series with intercept \n",
       "\n",
       "\n",
       "Call:\n",
       "lm(formula = dfgls.form, data = data.dfgls)\n",
       "\n",
       "Residuals:\n",
       "      Min        1Q    Median        3Q       Max \n",
       "-0.147904 -0.005908  0.000171  0.006933  0.076749 \n",
       "\n",
       "Coefficients:\n",
       "               Estimate Std. Error t value Pr(>|t|)  \n",
       "yd.lag       -0.0017821  0.0035373  -0.504   0.6147  \n",
       "yd.diff.lag1  0.0841913  0.0476834   1.766   0.0782 .\n",
       "yd.diff.lag2  0.0113678  0.0478694   0.237   0.8124  \n",
       "yd.diff.lag3 -0.0427247  0.0478248  -0.893   0.3722  \n",
       "yd.diff.lag4 -0.0002386  0.0477226  -0.005   0.9960  \n",
       "---\n",
       "Signif. codes:  0 '***' 0.001 '**' 0.01 '*' 0.05 '.' 0.1 ' ' 1\n",
       "\n",
       "Residual standard error: 0.01675 on 440 degrees of freedom\n",
       "Multiple R-squared:  0.009509,\tAdjusted R-squared:  -0.001747 \n",
       "F-statistic: 0.8448 on 5 and 440 DF,  p-value: 0.5185\n",
       "\n",
       "\n",
       "Value of test-statistic is: -0.5038 \n",
       "\n",
       "Critical values of DF-GLS are:\n",
       "                 1pct  5pct 10pct\n",
       "critical values -2.57 -1.94 -1.62\n"
      ]
     },
     "metadata": {},
     "output_type": "display_data"
    },
    {
     "data": {
      "text/plain": [
       "\n",
       "####################### \n",
       "# KPSS Unit Root Test # \n",
       "####################### \n",
       "\n",
       "Test is of type: mu with 5 lags. \n",
       "\n",
       "Value of test-statistic is: 4.5978 \n",
       "\n",
       "Critical value for a significance level of: \n",
       "                10pct  5pct 2.5pct  1pct\n",
       "critical values 0.347 0.463  0.574 0.739\n"
      ]
     },
     "metadata": {},
     "output_type": "display_data"
    },
    {
     "data": {
      "text/plain": [
       "\n",
       "################################ \n",
       "# Zivot-Andrews Unit Root Test # \n",
       "################################ \n",
       "\n",
       "\n",
       "Call:\n",
       "lm(formula = testmat)\n",
       "\n",
       "Residuals:\n",
       "      Min        1Q    Median        3Q       Max \n",
       "-0.141327 -0.006566 -0.000737  0.006459  0.075298 \n",
       "\n",
       "Coefficients:\n",
       "             Estimate Std. Error t value Pr(>|t|)    \n",
       "(Intercept) 1.021e-01  2.956e-02   3.453 0.000608 ***\n",
       "y.l1        9.532e-01  1.370e-02  69.550  < 2e-16 ***\n",
       "trend       6.307e-06  9.411e-06   0.670 0.503070    \n",
       "du          1.021e-02  3.684e-03   2.770 0.005833 ** \n",
       "---\n",
       "Signif. codes:  0 '***' 0.001 '**' 0.01 '*' 0.05 '.' 0.1 ' ' 1\n",
       "\n",
       "Residual standard error: 0.01652 on 445 degrees of freedom\n",
       "  (1 observation deleted due to missingness)\n",
       "Multiple R-squared:  0.9812,\tAdjusted R-squared:  0.981 \n",
       "F-statistic:  7724 on 3 and 445 DF,  p-value: < 2.2e-16\n",
       "\n",
       "\n",
       "Teststatistic: -3.4181 \n",
       "Critical values: 0.01= -5.34 0.05= -4.8 0.1= -4.58 \n",
       "\n",
       "Potential break point at position: 90 \n"
      ]
     },
     "metadata": {},
     "output_type": "display_data"
    },
    {
     "data": {
      "text/plain": [
       "\n",
       "################################ \n",
       "# Zivot-Andrews Unit Root Test # \n",
       "################################ \n",
       "\n",
       "\n",
       "Call:\n",
       "lm(formula = testmat)\n",
       "\n",
       "Residuals:\n",
       "      Min        1Q    Median        3Q       Max \n",
       "-0.141921 -0.006654 -0.000769  0.006641  0.075536 \n",
       "\n",
       "Coefficients:\n",
       "              Estimate Std. Error t value Pr(>|t|)    \n",
       "(Intercept)  8.719e-02  2.670e-02   3.265  0.00118 ** \n",
       "y.l1         9.576e-01  1.289e-02  74.263  < 2e-16 ***\n",
       "trend        1.388e-04  4.958e-05   2.800  0.00533 ** \n",
       "dt          -1.329e-04  5.010e-05  -2.652  0.00829 ** \n",
       "---\n",
       "Signif. codes:  0 '***' 0.001 '**' 0.01 '*' 0.05 '.' 0.1 ' ' 1\n",
       "\n",
       "Residual standard error: 0.01653 on 445 degrees of freedom\n",
       "  (1 observation deleted due to missingness)\n",
       "Multiple R-squared:  0.9811,\tAdjusted R-squared:  0.981 \n",
       "F-statistic:  7713 on 3 and 445 DF,  p-value: < 2.2e-16\n",
       "\n",
       "\n",
       "Teststatistic: -3.2904 \n",
       "Critical values: 0.01= -4.93 0.05= -4.42 0.1= -4.11 \n",
       "\n",
       "Potential break point at position: 108 \n"
      ]
     },
     "metadata": {},
     "output_type": "display_data"
    },
    {
     "data": {
      "text/plain": [
       "\n",
       "################################ \n",
       "# Zivot-Andrews Unit Root Test # \n",
       "################################ \n",
       "\n",
       "\n",
       "Call:\n",
       "lm(formula = testmat)\n",
       "\n",
       "Residuals:\n",
       "      Min        1Q    Median        3Q       Max \n",
       "-0.133322 -0.007203 -0.000660  0.005765  0.074695 \n",
       "\n",
       "Coefficients:\n",
       "              Estimate Std. Error t value Pr(>|t|)    \n",
       "(Intercept)  1.288e-01  2.991e-02   4.305 2.05e-05 ***\n",
       "y.l1         9.384e-01  1.427e-02  65.745  < 2e-16 ***\n",
       "trend        1.455e-04  3.499e-05   4.159 3.84e-05 ***\n",
       "du          -1.490e-02  3.667e-03  -4.064 5.71e-05 ***\n",
       "dt          -1.012e-04  3.278e-05  -3.088  0.00214 ** \n",
       "---\n",
       "Signif. codes:  0 '***' 0.001 '**' 0.01 '*' 0.05 '.' 0.1 ' ' 1\n",
       "\n",
       "Residual standard error: 0.01635 on 444 degrees of freedom\n",
       "  (1 observation deleted due to missingness)\n",
       "Multiple R-squared:  0.9816,\tAdjusted R-squared:  0.9814 \n",
       "F-statistic:  5921 on 4 and 444 DF,  p-value: < 2.2e-16\n",
       "\n",
       "\n",
       "Teststatistic: -4.3174 \n",
       "Critical values: 0.01= -5.57 0.05= -5.08 0.1= -4.82 \n",
       "\n",
       "Potential break point at position: 205 \n"
      ]
     },
     "metadata": {},
     "output_type": "display_data"
    }
   ],
   "source": [
    "summary(ur.pp(dados$AGRO3, type='Z-tau'))\n",
    "summary(ur.ers(dados$AGRO3, type='DF-GLS'))\n",
    "summary(ur.kpss(dados$AGRO3))\n",
    "summary(ur.za(dados$AGRO3, model='intercept'))\n",
    "summary(ur.za(dados$AGRO3, model='trend'))\n",
    "summary(ur.za(dados$AGRO3, model='both'))"
   ]
  },
  {
   "cell_type": "markdown",
   "metadata": {},
   "source": [
    "##### Testando para AGRO3 em primeira diferença:"
   ]
  },
  {
   "cell_type": "code",
   "execution_count": 9,
   "metadata": {
    "scrolled": true
   },
   "outputs": [
    {
     "data": {
      "text/plain": [
       "\n",
       "################################## \n",
       "# Phillips-Perron Unit Root Test # \n",
       "################################## \n",
       "\n",
       "Test regression with intercept \n",
       "\n",
       "\n",
       "Call:\n",
       "lm(formula = y ~ y.l1)\n",
       "\n",
       "Residuals:\n",
       "      Min        1Q    Median        3Q       Max \n",
       "-0.149008 -0.006845 -0.000505  0.006066  0.076623 \n",
       "\n",
       "Coefficients:\n",
       "             Estimate Std. Error t value Pr(>|t|)  \n",
       "(Intercept) 0.0005052  0.0007885   0.641    0.522  \n",
       "y.l1        0.0828342  0.0472007   1.755    0.080 .\n",
       "---\n",
       "Signif. codes:  0 '***' 0.001 '**' 0.01 '*' 0.05 '.' 0.1 ' ' 1\n",
       "\n",
       "Residual standard error: 0.01668 on 446 degrees of freedom\n",
       "Multiple R-squared:  0.006858,\tAdjusted R-squared:  0.004631 \n",
       "F-statistic:  3.08 on 1 and 446 DF,  p-value: 0.07996\n",
       "\n",
       "\n",
       "Value of test-statistic, type: Z-tau  is: -19.4 \n",
       "\n",
       "         aux. Z statistics\n",
       "Z-tau-mu            0.6396\n",
       "\n",
       "Critical values for Z statistics: \n",
       "                     1pct      5pct     10pct\n",
       "critical values -3.447036 -2.868253 -2.570332\n"
      ]
     },
     "metadata": {},
     "output_type": "display_data"
    },
    {
     "data": {
      "text/plain": [
       "\n",
       "############################################### \n",
       "# Elliot, Rothenberg and Stock Unit Root Test # \n",
       "############################################### \n",
       "\n",
       "Test of type DF-GLS \n",
       "detrending of series with intercept \n",
       "\n",
       "\n",
       "Call:\n",
       "lm(formula = dfgls.form, data = data.dfgls)\n",
       "\n",
       "Residuals:\n",
       "      Min        1Q    Median        3Q       Max \n",
       "-0.153083 -0.010160 -0.004141  0.002637  0.073153 \n",
       "\n",
       "Coefficients:\n",
       "             Estimate Std. Error t value Pr(>|t|)    \n",
       "yd.lag       -0.72292    0.09026  -8.010 1.04e-14 ***\n",
       "yd.diff.lag1 -0.14399    0.08340  -1.727    0.085 .  \n",
       "yd.diff.lag2 -0.08877    0.07400  -1.200    0.231    \n",
       "yd.diff.lag3 -0.09104    0.06306  -1.444    0.150    \n",
       "yd.diff.lag4 -0.04784    0.04770  -1.003    0.316    \n",
       "---\n",
       "Signif. codes:  0 '***' 0.001 '**' 0.01 '*' 0.05 '.' 0.1 ' ' 1\n",
       "\n",
       "Residual standard error: 0.01718 on 439 degrees of freedom\n",
       "Multiple R-squared:  0.4321,\tAdjusted R-squared:  0.4256 \n",
       "F-statistic: 66.79 on 5 and 439 DF,  p-value: < 2.2e-16\n",
       "\n",
       "\n",
       "Value of test-statistic is: -8.0097 \n",
       "\n",
       "Critical values of DF-GLS are:\n",
       "                 1pct  5pct 10pct\n",
       "critical values -2.57 -1.94 -1.62\n"
      ]
     },
     "metadata": {},
     "output_type": "display_data"
    },
    {
     "data": {
      "text/plain": [
       "\n",
       "####################### \n",
       "# KPSS Unit Root Test # \n",
       "####################### \n",
       "\n",
       "Test is of type: mu with 5 lags. \n",
       "\n",
       "Value of test-statistic is: 0.1026 \n",
       "\n",
       "Critical value for a significance level of: \n",
       "                10pct  5pct 2.5pct  1pct\n",
       "critical values 0.347 0.463  0.574 0.739\n"
      ]
     },
     "metadata": {},
     "output_type": "display_data"
    },
    {
     "data": {
      "text/plain": [
       "\n",
       "################################ \n",
       "# Zivot-Andrews Unit Root Test # \n",
       "################################ \n",
       "\n",
       "\n",
       "Call:\n",
       "lm(formula = testmat)\n",
       "\n",
       "Residuals:\n",
       "      Min        1Q    Median        3Q       Max \n",
       "-0.146191 -0.007900 -0.001019  0.006857  0.076129 \n",
       "\n",
       "Coefficients:\n",
       "              Estimate Std. Error t value Pr(>|t|)   \n",
       "(Intercept)  4.278e-03  1.856e-03   2.305  0.02164 * \n",
       "y.l1         6.731e-02  4.719e-02   1.426  0.15443   \n",
       "trend       -3.237e-05  1.171e-05  -2.764  0.00594 **\n",
       "du           8.473e-03  3.070e-03   2.760  0.00602 **\n",
       "---\n",
       "Signif. codes:  0 '***' 0.001 '**' 0.01 '*' 0.05 '.' 0.1 ' ' 1\n",
       "\n",
       "Residual standard error: 0.01656 on 444 degrees of freedom\n",
       "  (1 observation deleted due to missingness)\n",
       "Multiple R-squared:  0.02492,\tAdjusted R-squared:  0.01833 \n",
       "F-statistic: 3.782 on 3 and 444 DF,  p-value: 0.01062\n",
       "\n",
       "\n",
       "Teststatistic: -19.7655 \n",
       "Critical values: 0.01= -5.34 0.05= -4.8 0.1= -4.58 \n",
       "\n",
       "Potential break point at position: 262 \n"
      ]
     },
     "metadata": {},
     "output_type": "display_data"
    },
    {
     "data": {
      "text/plain": [
       "\n",
       "################################ \n",
       "# Zivot-Andrews Unit Root Test # \n",
       "################################ \n",
       "\n",
       "\n",
       "Call:\n",
       "lm(formula = testmat)\n",
       "\n",
       "Residuals:\n",
       "      Min        1Q    Median        3Q       Max \n",
       "-0.149358 -0.007035 -0.000800  0.006114  0.077415 \n",
       "\n",
       "Coefficients:\n",
       "              Estimate Std. Error t value Pr(>|t|)  \n",
       "(Intercept) -0.0040024  0.0057748  -0.693   0.4886  \n",
       "y.l1         0.0793408  0.0473027   1.677   0.0942 .\n",
       "trend        0.0002034  0.0002075   0.980   0.3276  \n",
       "dt          -0.0002105  0.0002099  -1.003   0.3163  \n",
       "---\n",
       "Signif. codes:  0 '***' 0.001 '**' 0.01 '*' 0.05 '.' 0.1 ' ' 1\n",
       "\n",
       "Residual standard error: 0.01669 on 444 degrees of freedom\n",
       "  (1 observation deleted due to missingness)\n",
       "Multiple R-squared:  0.01043,\tAdjusted R-squared:  0.003742 \n",
       "F-statistic:  1.56 on 3 and 444 DF,  p-value: 0.1985\n",
       "\n",
       "\n",
       "Teststatistic: -19.4631 \n",
       "Critical values: 0.01= -4.93 0.05= -4.42 0.1= -4.11 \n",
       "\n",
       "Potential break point at position: 30 \n"
      ]
     },
     "metadata": {},
     "output_type": "display_data"
    },
    {
     "data": {
      "text/plain": [
       "\n",
       "################################ \n",
       "# Zivot-Andrews Unit Root Test # \n",
       "################################ \n",
       "\n",
       "\n",
       "Call:\n",
       "lm(formula = testmat)\n",
       "\n",
       "Residuals:\n",
       "      Min        1Q    Median        3Q       Max \n",
       "-0.146681 -0.007457 -0.000852  0.006324  0.076255 \n",
       "\n",
       "Coefficients:\n",
       "              Estimate Std. Error t value Pr(>|t|)   \n",
       "(Intercept)  3.401e-03  2.074e-03   1.639  0.10183   \n",
       "y.l1         6.578e-02  4.722e-02   1.393  0.16433   \n",
       "trend       -2.573e-05  1.365e-05  -1.884  0.06018 . \n",
       "du           9.324e-03  3.199e-03   2.915  0.00374 **\n",
       "dt          -2.488e-05  2.626e-05  -0.947  0.34394   \n",
       "---\n",
       "Signif. codes:  0 '***' 0.001 '**' 0.01 '*' 0.05 '.' 0.1 ' ' 1\n",
       "\n",
       "Residual standard error: 0.01657 on 443 degrees of freedom\n",
       "  (1 observation deleted due to missingness)\n",
       "Multiple R-squared:  0.02689,\tAdjusted R-squared:  0.0181 \n",
       "F-statistic:  3.06 on 4 and 443 DF,  p-value: 0.01661\n",
       "\n",
       "\n",
       "Teststatistic: -19.7841 \n",
       "Critical values: 0.01= -5.57 0.05= -5.08 0.1= -4.82 \n",
       "\n",
       "Potential break point at position: 262 \n"
      ]
     },
     "metadata": {},
     "output_type": "display_data"
    }
   ],
   "source": [
    "summary(ur.pp(na.omit(diff(dados$AGRO3)), type='Z-tau'))\n",
    "summary(ur.ers(na.omit(diff(dados$AGRO3)), type='DF-GLS'))\n",
    "summary(ur.kpss(na.omit(diff(dados$AGRO3))))\n",
    "summary(ur.za(na.omit(diff(dados$AGRO3)), model='intercept'))\n",
    "summary(ur.za(na.omit(diff(dados$AGRO3)), model='trend'))\n",
    "summary(ur.za(na.omit(diff(dados$AGRO3)), model='both'))"
   ]
  },
  {
   "cell_type": "markdown",
   "metadata": {},
   "source": [
    "##### Testando para BEEF3 em Nível"
   ]
  },
  {
   "cell_type": "code",
   "execution_count": 10,
   "metadata": {},
   "outputs": [
    {
     "data": {
      "text/plain": [
       "\n",
       "################################## \n",
       "# Phillips-Perron Unit Root Test # \n",
       "################################## \n",
       "\n",
       "Test regression with intercept \n",
       "\n",
       "\n",
       "Call:\n",
       "lm(formula = y ~ y.l1)\n",
       "\n",
       "Residuals:\n",
       "      Min        1Q    Median        3Q       Max \n",
       "-0.084659 -0.014398 -0.000707  0.014304  0.082645 \n",
       "\n",
       "Coefficients:\n",
       "            Estimate Std. Error t value Pr(>|t|)    \n",
       "(Intercept) 0.027266   0.016551   1.647      0.1    \n",
       "y.l1        0.988375   0.007088 139.449   <2e-16 ***\n",
       "---\n",
       "Signif. codes:  0 '***' 0.001 '**' 0.01 '*' 0.05 '.' 0.1 ' ' 1\n",
       "\n",
       "Residual standard error: 0.02242 on 447 degrees of freedom\n",
       "Multiple R-squared:  0.9775,\tAdjusted R-squared:  0.9775 \n",
       "F-statistic: 1.945e+04 on 1 and 447 DF,  p-value: < 2.2e-16\n",
       "\n",
       "\n",
       "Value of test-statistic, type: Z-tau  is: -1.6619 \n",
       "\n",
       "         aux. Z statistics\n",
       "Z-tau-mu            1.6688\n",
       "\n",
       "Critical values for Z statistics: \n",
       "                     1pct      5pct     10pct\n",
       "critical values -3.447006 -2.868239 -2.570325\n"
      ]
     },
     "metadata": {},
     "output_type": "display_data"
    },
    {
     "data": {
      "text/plain": [
       "\n",
       "############################################### \n",
       "# Elliot, Rothenberg and Stock Unit Root Test # \n",
       "############################################### \n",
       "\n",
       "Test of type DF-GLS \n",
       "detrending of series with intercept \n",
       "\n",
       "\n",
       "Call:\n",
       "lm(formula = dfgls.form, data = data.dfgls)\n",
       "\n",
       "Residuals:\n",
       "     Min       1Q   Median       3Q      Max \n",
       "-0.07957 -0.01446  0.00053  0.01456  0.08297 \n",
       "\n",
       "Coefficients:\n",
       "              Estimate Std. Error t value Pr(>|t|)  \n",
       "yd.lag       -0.008534   0.006387  -1.336   0.1822  \n",
       "yd.diff.lag1  0.055812   0.047505   1.175   0.2407  \n",
       "yd.diff.lag2 -0.004413   0.047278  -0.093   0.9257  \n",
       "yd.diff.lag3  0.019552   0.047217   0.414   0.6790  \n",
       "yd.diff.lag4 -0.087222   0.047027  -1.855   0.0643 .\n",
       "---\n",
       "Signif. codes:  0 '***' 0.001 '**' 0.01 '*' 0.05 '.' 0.1 ' ' 1\n",
       "\n",
       "Residual standard error: 0.02221 on 440 degrees of freedom\n",
       "Multiple R-squared:  0.01524,\tAdjusted R-squared:  0.004051 \n",
       "F-statistic: 1.362 on 5 and 440 DF,  p-value: 0.2375\n",
       "\n",
       "\n",
       "Value of test-statistic is: -1.3362 \n",
       "\n",
       "Critical values of DF-GLS are:\n",
       "                 1pct  5pct 10pct\n",
       "critical values -2.57 -1.94 -1.62\n"
      ]
     },
     "metadata": {},
     "output_type": "display_data"
    },
    {
     "data": {
      "text/plain": [
       "\n",
       "####################### \n",
       "# KPSS Unit Root Test # \n",
       "####################### \n",
       "\n",
       "Test is of type: mu with 5 lags. \n",
       "\n",
       "Value of test-statistic is: 1.6953 \n",
       "\n",
       "Critical value for a significance level of: \n",
       "                10pct  5pct 2.5pct  1pct\n",
       "critical values 0.347 0.463  0.574 0.739\n"
      ]
     },
     "metadata": {},
     "output_type": "display_data"
    },
    {
     "data": {
      "text/plain": [
       "\n",
       "################################ \n",
       "# Zivot-Andrews Unit Root Test # \n",
       "################################ \n",
       "\n",
       "\n",
       "Call:\n",
       "lm(formula = testmat)\n",
       "\n",
       "Residuals:\n",
       "      Min        1Q    Median        3Q       Max \n",
       "-0.079536 -0.014148 -0.000852  0.014026  0.065598 \n",
       "\n",
       "Coefficients:\n",
       "              Estimate Std. Error t value Pr(>|t|)    \n",
       "(Intercept)  9.011e-02  2.138e-02   4.216 3.02e-05 ***\n",
       "y.l1         9.568e-01  9.933e-03  96.324  < 2e-16 ***\n",
       "trend       -3.688e-05  1.152e-05  -3.201  0.00147 ** \n",
       "du           2.311e-02  5.098e-03   4.533 7.50e-06 ***\n",
       "---\n",
       "Signif. codes:  0 '***' 0.001 '**' 0.01 '*' 0.05 '.' 0.1 ' ' 1\n",
       "\n",
       "Residual standard error: 0.02197 on 445 degrees of freedom\n",
       "  (1 observation deleted due to missingness)\n",
       "Multiple R-squared:  0.9785,\tAdjusted R-squared:  0.9784 \n",
       "F-statistic:  6758 on 3 and 445 DF,  p-value: < 2.2e-16\n",
       "\n",
       "\n",
       "Teststatistic: -4.3524 \n",
       "Critical values: 0.01= -5.34 0.05= -4.8 0.1= -4.58 \n",
       "\n",
       "Potential break point at position: 78 \n"
      ]
     },
     "metadata": {},
     "output_type": "display_data"
    },
    {
     "data": {
      "text/plain": [
       "\n",
       "################################ \n",
       "# Zivot-Andrews Unit Root Test # \n",
       "################################ \n",
       "\n",
       "\n",
       "Call:\n",
       "lm(formula = testmat)\n",
       "\n",
       "Residuals:\n",
       "     Min       1Q   Median       3Q      Max \n",
       "-0.08372 -0.01454 -0.00049  0.01405  0.07729 \n",
       "\n",
       "Coefficients:\n",
       "              Estimate Std. Error t value Pr(>|t|)    \n",
       "(Intercept)  9.720e-02  2.550e-02   3.811 0.000158 ***\n",
       "y.l1         9.511e-01  1.261e-02  75.411  < 2e-16 ***\n",
       "trend        1.619e-04  4.594e-05   3.524 0.000468 ***\n",
       "dt          -2.249e-04  6.281e-05  -3.581 0.000379 ***\n",
       "---\n",
       "Signif. codes:  0 '***' 0.001 '**' 0.01 '*' 0.05 '.' 0.1 ' ' 1\n",
       "\n",
       "Residual standard error: 0.02215 on 445 degrees of freedom\n",
       "  (1 observation deleted due to missingness)\n",
       "Multiple R-squared:  0.9782,\tAdjusted R-squared:  0.978 \n",
       "F-statistic:  6643 on 3 and 445 DF,  p-value: < 2.2e-16\n",
       "\n",
       "\n",
       "Teststatistic: -3.8756 \n",
       "Critical values: 0.01= -4.93 0.05= -4.42 0.1= -4.11 \n",
       "\n",
       "Potential break point at position: 170 \n"
      ]
     },
     "metadata": {},
     "output_type": "display_data"
    },
    {
     "data": {
      "text/plain": [
       "\n",
       "################################ \n",
       "# Zivot-Andrews Unit Root Test # \n",
       "################################ \n",
       "\n",
       "\n",
       "Call:\n",
       "lm(formula = testmat)\n",
       "\n",
       "Residuals:\n",
       "      Min        1Q    Median        3Q       Max \n",
       "-0.079316 -0.014301 -0.001093  0.013908  0.065353 \n",
       "\n",
       "Coefficients:\n",
       "              Estimate Std. Error t value Pr(>|t|)    \n",
       "(Intercept)  9.384e-02  2.324e-02   4.038 6.36e-05 ***\n",
       "y.l1         9.559e-01  1.016e-02  94.076  < 2e-16 ***\n",
       "trend       -8.439e-05  1.163e-04  -0.726 0.468344    \n",
       "du           2.513e-02  7.092e-03   3.543 0.000437 ***\n",
       "dt           4.752e-05  1.157e-04   0.411 0.681564    \n",
       "---\n",
       "Signif. codes:  0 '***' 0.001 '**' 0.01 '*' 0.05 '.' 0.1 ' ' 1\n",
       "\n",
       "Residual standard error: 0.02199 on 444 degrees of freedom\n",
       "  (1 observation deleted due to missingness)\n",
       "Multiple R-squared:  0.9785,\tAdjusted R-squared:  0.9783 \n",
       "F-statistic:  5059 on 4 and 444 DF,  p-value: < 2.2e-16\n",
       "\n",
       "\n",
       "Teststatistic: -4.3394 \n",
       "Critical values: 0.01= -5.57 0.05= -5.08 0.1= -4.82 \n",
       "\n",
       "Potential break point at position: 78 \n"
      ]
     },
     "metadata": {},
     "output_type": "display_data"
    }
   ],
   "source": [
    "summary(ur.pp(dados$BEEF3, type='Z-tau'))\n",
    "summary(ur.ers(dados$BEEF3, type='DF-GLS'))\n",
    "summary(ur.kpss(dados$BEEF3))\n",
    "summary(ur.za(dados$BEEF3, model='intercept'))\n",
    "summary(ur.za(dados$BEEF3, model='trend'))\n",
    "summary(ur.za(dados$BEEF3, model='both'))"
   ]
  },
  {
   "cell_type": "markdown",
   "metadata": {},
   "source": [
    "##### Testando para BEEF3 em Primeira Diferença"
   ]
  },
  {
   "cell_type": "code",
   "execution_count": 11,
   "metadata": {},
   "outputs": [
    {
     "data": {
      "text/plain": [
       "\n",
       "################################## \n",
       "# Phillips-Perron Unit Root Test # \n",
       "################################## \n",
       "\n",
       "Test regression with intercept \n",
       "\n",
       "\n",
       "Call:\n",
       "lm(formula = y ~ y.l1)\n",
       "\n",
       "Residuals:\n",
       "      Min        1Q    Median        3Q       Max \n",
       "-0.079050 -0.013943 -0.000745  0.014057  0.083671 \n",
       "\n",
       "Coefficients:\n",
       "             Estimate Std. Error t value Pr(>|t|)\n",
       "(Intercept) 0.0002559  0.0010586   0.242    0.809\n",
       "y.l1        0.0457641  0.0471565   0.970    0.332\n",
       "\n",
       "Residual standard error: 0.02241 on 446 degrees of freedom\n",
       "Multiple R-squared:  0.002107,\tAdjusted R-squared:  -0.0001302 \n",
       "F-statistic: 0.9418 on 1 and 446 DF,  p-value: 0.3323\n",
       "\n",
       "\n",
       "Value of test-statistic, type: Z-tau  is: -20.2162 \n",
       "\n",
       "         aux. Z statistics\n",
       "Z-tau-mu            0.2415\n",
       "\n",
       "Critical values for Z statistics: \n",
       "                     1pct      5pct     10pct\n",
       "critical values -3.447036 -2.868253 -2.570332\n"
      ]
     },
     "metadata": {},
     "output_type": "display_data"
    },
    {
     "data": {
      "text/plain": [
       "\n",
       "############################################### \n",
       "# Elliot, Rothenberg and Stock Unit Root Test # \n",
       "############################################### \n",
       "\n",
       "Test of type DF-GLS \n",
       "detrending of series with intercept \n",
       "\n",
       "\n",
       "Call:\n",
       "lm(formula = dfgls.form, data = data.dfgls)\n",
       "\n",
       "Residuals:\n",
       "     Min       1Q   Median       3Q      Max \n",
       "-0.08317 -0.01329  0.00236  0.01761  0.07961 \n",
       "\n",
       "Coefficients:\n",
       "             Estimate Std. Error t value Pr(>|t|)    \n",
       "yd.lag       -0.07440    0.03053  -2.437   0.0152 *  \n",
       "yd.diff.lag1 -0.66339    0.05210 -12.733  < 2e-16 ***\n",
       "yd.diff.lag2 -0.48691    0.05838  -8.340 9.68e-16 ***\n",
       "yd.diff.lag3 -0.28584    0.05647  -5.062 6.11e-07 ***\n",
       "yd.diff.lag4 -0.19942    0.04629  -4.308 2.03e-05 ***\n",
       "---\n",
       "Signif. codes:  0 '***' 0.001 '**' 0.01 '*' 0.05 '.' 0.1 ' ' 1\n",
       "\n",
       "Residual standard error: 0.02454 on 439 degrees of freedom\n",
       "Multiple R-squared:  0.3682,\tAdjusted R-squared:  0.361 \n",
       "F-statistic: 51.16 on 5 and 439 DF,  p-value: < 2.2e-16\n",
       "\n",
       "\n",
       "Value of test-statistic is: -2.4369 \n",
       "\n",
       "Critical values of DF-GLS are:\n",
       "                 1pct  5pct 10pct\n",
       "critical values -2.57 -1.94 -1.62\n"
      ]
     },
     "metadata": {},
     "output_type": "display_data"
    },
    {
     "data": {
      "text/plain": [
       "\n",
       "####################### \n",
       "# KPSS Unit Root Test # \n",
       "####################### \n",
       "\n",
       "Test is of type: mu with 5 lags. \n",
       "\n",
       "Value of test-statistic is: 0.1029 \n",
       "\n",
       "Critical value for a significance level of: \n",
       "                10pct  5pct 2.5pct  1pct\n",
       "critical values 0.347 0.463  0.574 0.739\n"
      ]
     },
     "metadata": {},
     "output_type": "display_data"
    },
    {
     "data": {
      "text/plain": [
       "\n",
       "################################ \n",
       "# Zivot-Andrews Unit Root Test # \n",
       "################################ \n",
       "\n",
       "\n",
       "Call:\n",
       "lm(formula = testmat)\n",
       "\n",
       "Residuals:\n",
       "      Min        1Q    Median        3Q       Max \n",
       "-0.075209 -0.013717 -0.000469  0.013379  0.080566 \n",
       "\n",
       "Coefficients:\n",
       "              Estimate Std. Error t value Pr(>|t|)  \n",
       "(Intercept) -3.561e-03  2.978e-03  -1.196   0.2323  \n",
       "y.l1         3.495e-02  4.723e-02   0.740   0.4597  \n",
       "trend       -1.657e-05  1.001e-05  -1.655   0.0985 .\n",
       "du           8.658e-03  3.896e-03   2.222   0.0268 *\n",
       "---\n",
       "Signif. codes:  0 '***' 0.001 '**' 0.01 '*' 0.05 '.' 0.1 ' ' 1\n",
       "\n",
       "Residual standard error: 0.02233 on 444 degrees of freedom\n",
       "  (1 observation deleted due to missingness)\n",
       "Multiple R-squared:  0.01353,\tAdjusted R-squared:  0.006866 \n",
       "F-statistic:  2.03 on 3 and 444 DF,  p-value: 0.1089\n",
       "\n",
       "\n",
       "Teststatistic: -20.4311 \n",
       "Critical values: 0.01= -5.34 0.05= -4.8 0.1= -4.58 \n",
       "\n",
       "Potential break point at position: 58 \n"
      ]
     },
     "metadata": {},
     "output_type": "display_data"
    },
    {
     "data": {
      "text/plain": [
       "\n",
       "################################ \n",
       "# Zivot-Andrews Unit Root Test # \n",
       "################################ \n",
       "\n",
       "\n",
       "Call:\n",
       "lm(formula = testmat)\n",
       "\n",
       "Residuals:\n",
       "      Min        1Q    Median        3Q       Max \n",
       "-0.078538 -0.013854 -0.000638  0.013455  0.081293 \n",
       "\n",
       "Coefficients:\n",
       "              Estimate Std. Error t value Pr(>|t|)\n",
       "(Intercept) -5.004e-03  4.611e-03  -1.085    0.278\n",
       "y.l1         3.942e-02  4.732e-02   0.833    0.405\n",
       "trend        9.849e-05  6.914e-05   1.425    0.155\n",
       "dt          -1.112e-04  7.474e-05  -1.488    0.137\n",
       "\n",
       "Residual standard error: 0.02239 on 444 degrees of freedom\n",
       "  (1 observation deleted due to missingness)\n",
       "Multiple R-squared:  0.007509,\tAdjusted R-squared:  0.000803 \n",
       "F-statistic:  1.12 on 3 and 444 DF,  p-value: 0.3407\n",
       "\n",
       "\n",
       "Teststatistic: -20.3016 \n",
       "Critical values: 0.01= -4.93 0.05= -4.42 0.1= -4.11 \n",
       "\n",
       "Potential break point at position: 80 \n"
      ]
     },
     "metadata": {},
     "output_type": "display_data"
    },
    {
     "data": {
      "text/plain": [
       "\n",
       "################################ \n",
       "# Zivot-Andrews Unit Root Test # \n",
       "################################ \n",
       "\n",
       "\n",
       "Call:\n",
       "lm(formula = testmat)\n",
       "\n",
       "Residuals:\n",
       "     Min       1Q   Median       3Q      Max \n",
       "-0.07290 -0.01398 -0.00060  0.01341  0.08067 \n",
       "\n",
       "Coefficients:\n",
       "              Estimate Std. Error t value Pr(>|t|)  \n",
       "(Intercept)  0.0014326  0.0061524   0.233   0.8160  \n",
       "y.l1         0.0345219  0.0472441   0.731   0.4653  \n",
       "trend       -0.0001831  0.0001798  -1.018   0.3090  \n",
       "du           0.0132235  0.0062771   2.107   0.0357 *\n",
       "dt           0.0001670  0.0001801   0.928   0.3541  \n",
       "---\n",
       "Signif. codes:  0 '***' 0.001 '**' 0.01 '*' 0.05 '.' 0.1 ' ' 1\n",
       "\n",
       "Residual standard error: 0.02233 on 443 degrees of freedom\n",
       "  (1 observation deleted due to missingness)\n",
       "Multiple R-squared:  0.01544,\tAdjusted R-squared:  0.006554 \n",
       "F-statistic: 1.737 on 4 and 443 DF,  p-value: 0.1407\n",
       "\n",
       "\n",
       "Teststatistic: -20.436 \n",
       "Critical values: 0.01= -5.57 0.05= -5.08 0.1= -4.82 \n",
       "\n",
       "Potential break point at position: 58 \n"
      ]
     },
     "metadata": {},
     "output_type": "display_data"
    }
   ],
   "source": [
    "summary(ur.pp(na.omit(diff(dados$BEEF3)), type='Z-tau'))\n",
    "summary(ur.ers(na.omit(diff(dados$BEEF3)), type='DF-GLS'))\n",
    "summary(ur.kpss(na.omit(diff(dados$BEEF3))))\n",
    "summary(ur.za(na.omit(diff(dados$BEEF3)), model='intercept'))\n",
    "summary(ur.za(na.omit(diff(dados$BEEF3)), model='trend'))\n",
    "summary(ur.za(na.omit(diff(dados$BEEF3)), model='both'))"
   ]
  },
  {
   "cell_type": "markdown",
   "metadata": {},
   "source": [
    "O resultado dos testes acima confirmam os obtidos no teste ADF, nenhum deles rejeita H0, de que há raízes unitárias em AGRO3 e BEEF3 em Nível, porém todos rejeitam H0 em primeira diferença. O que leva a conclusão de que todas as séries são I(1)\n",
    "<hr>"
   ]
  },
  {
   "cell_type": "markdown",
   "metadata": {},
   "source": [
    "**(5) Caso as séries em questão sejam I(1), teste a existência de cointegração, por meio do teste Engle-Granger, entre os seguintes pares de variáveis: AGRO e SLCE, AGRO e BEEF, BEEF e BRFS, BEEF e MRFG, BRFS e JBSS (variáveis definidas em logaritmos).**"
   ]
  },
  {
   "cell_type": "code",
   "execution_count": 12,
   "metadata": {
    "collapsed": true
   },
   "outputs": [],
   "source": [
    "library('egcm')"
   ]
  },
  {
   "cell_type": "markdown",
   "metadata": {},
   "source": [
    "##### Testando Cointegração para AGRO3 e SLCE3:"
   ]
  },
  {
   "cell_type": "code",
   "execution_count": 13,
   "metadata": {},
   "outputs": [
    {
     "data": {
      "text/plain": [
       "SLCE3[i] =   0.0376 AGRO3[i] +   2.6803 + R[i], R[i] =   0.9813 R[i-1] + eps[i], eps ~ N(0,  0.0208^2)\n",
       "            (0.0338)            (0.0810)                (0.0114)\n",
       "\n",
       "R[2016-10-25] = -0.0497 (t = -0.578)\n",
       "\n",
       "WARNING: AGRO3 and SLCE3 do not appear to be cointegrated.\n",
       "\n",
       "Unit Root Tests of Residuals\n",
       "                                                    Statistic    p-value\n",
       "  Augmented Dickey Fuller (ADF)                        -2.219    0.40544\n",
       "  Phillips-Perron (PP)                                -11.250    0.33073\n",
       "  Pantula, Gonzales-Farias and Fuller (PGFF)            0.972    0.22096\n",
       "  Elliott, Rothenberg and Stock DF-GLS (ERSD)          -0.985    0.55078\n",
       "  Johansen's Trace Test (JOT)                         -13.869    0.32623\n",
       "  Schmidt and Phillips Rho (SPR)                       -1.699    0.96251\n",
       "\n",
       "Variances\n",
       "  SD(diff(AGRO3))      =   0.016702\n",
       "  SD(diff(SLCE3))      =   0.020997\n",
       "  SD(diff(residuals))  =   0.020952\n",
       "  SD(residuals)        =   0.086068\n",
       "  SD(innovations)      =   0.020797\n",
       "\n",
       "Half life       =  36.762465\n",
       "R[last]         =  -0.049743 (t=-0.58)"
      ]
     },
     "metadata": {},
     "output_type": "display_data"
    },
    {
     "data": {
      "image/png": "[encoded data removed]",
      "text/plain": [
       "plot without title"
      ]
     },
     "metadata": {},
     "output_type": "display_data"
    }
   ],
   "source": [
    "eg = egcm(dados$AGRO3,dados$SLCE3)\n",
    "summary(eg)\n",
    "plot(eg)"
   ]
  },
  {
   "cell_type": "markdown",
   "metadata": {},
   "source": [
    "##### Testando para as demais: \n",
    "\n",
    "AGRO e BEEF, BEEF e BRFS, BEEF e MRFG, BRFS e JBSS "
   ]
  },
  {
   "cell_type": "code",
   "execution_count": 37,
   "metadata": {},
   "outputs": [
    {
     "name": "stdout",
     "output_type": "stream",
     "text": [
      "[1] \"AGRO3 e BEEF3\"\n"
     ]
    },
    {
     "data": {
      "text/plain": [
       "BEEF3[i] =   0.6028 AGRO3[i] +   0.9005 + R[i], R[i] =   0.9985 R[i-1] + eps[i], eps ~ N(0,  0.0230^2)\n",
       "            (0.0513)            (0.1223)                (0.0083)\n",
       "\n",
       "R[2016-10-25] = -0.0268 (t = -0.205)\n",
       "\n",
       "WARNING: AGRO3 and BEEF3 do not appear to be cointegrated."
      ]
     },
     "metadata": {},
     "output_type": "display_data"
    },
    {
     "name": "stdout",
     "output_type": "stream",
     "text": [
      "[1] \"BEEF3 e BRFS3\"\n"
     ]
    },
    {
     "data": {
      "text/plain": [
       "BRFS3[i] =   0.0716 BEEF3[i] +   3.8913 + R[i], R[i] =   1.0000 R[i-1] + eps[i], eps ~ N(0,  0.0173^2)\n",
       "            (0.0436)            (0.1022)                (0.0059)\n",
       "\n",
       "R[2016-10-25] = -0.0933 (t = -0.678)\n",
       "\n",
       "WARNING: BEEF3 and BRFS3 do not appear to be cointegrated."
      ]
     },
     "metadata": {},
     "output_type": "display_data"
    },
    {
     "name": "stdout",
     "output_type": "stream",
     "text": [
      "[1] \"BEEF3 e MRFG3\"\n"
     ]
    },
    {
     "data": {
      "text/plain": [
       "MRFG3[i] =   0.7762 BEEF3[i] -   0.0957 + R[i], R[i] =   0.9875 R[i-1] + eps[i], eps ~ N(0,  0.0235^2)\n",
       "            (0.0325)            (0.0767)                (0.0108)\n",
       "\n",
       "R[2016-10-25] = 0.0810 (t = 0.790)\n",
       "\n",
       "WARNING: BEEF3 and MRFG3 do not appear to be cointegrated."
      ]
     },
     "metadata": {},
     "output_type": "display_data"
    },
    {
     "name": "stdout",
     "output_type": "stream",
     "text": [
      "[1] \"BRFS3 e JBSS3\"\n"
     ]
    },
    {
     "data": {
      "text/plain": [
       "JBSS3[i] =   1.1336 BRFS3[i] -   2.0721 + R[i], R[i] =   0.9499 R[i-1] + eps[i], eps ~ N(0,  0.0329^2)\n",
       "            (0.0339)            (0.1388)                (0.0157)\n",
       "\n",
       "R[2016-10-25] = 0.0452 (t = 0.455)\n",
       "\n",
       "WARNING: The series seem cointegrated but the residuals are not AR(1).\n",
       "\n",
       "Unit Root Tests of Residuals\n",
       "                                                    Statistic    p-value\n",
       "  Augmented Dickey Fuller (ADF)                        -3.552    0.02514\n",
       "  Phillips-Perron (PP)                                -23.234    0.03376\n",
       "  Pantula, Gonzales-Farias and Fuller (PGFF)            0.948    0.04376\n",
       "  Elliott, Rothenberg and Stock DF-GLS (ERSD)          -0.797    0.63415\n",
       "  Johansen's Trace Test (JOT)                         -17.552    0.12256\n",
       "  Schmidt and Phillips Rho (SPR)                       -3.163    0.90533\n",
       "\n",
       "Variances\n",
       "  SD(diff(BRFS3))      =   0.017676\n",
       "  SD(diff(JBSS3))      =   0.033096\n",
       "  SD(diff(residuals))  =   0.033510\n",
       "  SD(residuals)        =   0.099265\n",
       "  SD(innovations)      =   0.032934\n",
       "\n",
       "Half life       =  13.477863\n",
       "R[last]         =   0.045163 (t=0.45)"
      ]
     },
     "metadata": {},
     "output_type": "display_data"
    }
   ],
   "source": [
    "print(\"AGRO3 e BEEF3\")\n",
    "egcm(dados$AGRO3,dados$BEEF3)\n",
    "print(\"BEEF3 e BRFS3\")\n",
    "egcm(dados$BEEF3,dados$BRFS3)\n",
    "print(\"BEEF3 e MRFG3\")\n",
    "egcm(dados$BEEF3,dados$MRFG3)\n",
    "print(\"BRFS3 e JBSS3\")\n",
    "summary(egcm(dados$BRFS3,dados$JBSS3))"
   ]
  },
  {
   "cell_type": "markdown",
   "metadata": {},
   "source": [
    "Aparentemente BRFS3 e JBSS3 são cointegradas\n",
    "<hr>"
   ]
  },
  {
   "cell_type": "markdown",
   "metadata": {},
   "source": [
    "**(6) Divida a amostra em duas partes, e realize os mesmos testes acima para cada subamostra separadamente. Os resultados mudam?**"
   ]
  },
  {
   "cell_type": "code",
   "execution_count": 18,
   "metadata": {},
   "outputs": [
    {
     "data": {
      "text/plain": [
       "SLCE3[i] =   0.4623 AGRO3[i] +   1.7341 + R[i], R[i] =   0.9561 R[i-1] + eps[i], eps ~ N(0,  0.0232^2)\n",
       "            (0.0342)            (0.0800)                (0.0235)\n",
       "\n",
       "R[2015-11-27] = 0.0208 (t = 0.317)\n",
       "\n",
       "WARNING: AGRO3 and SLCE3 do not appear to be cointegrated."
      ]
     },
     "metadata": {},
     "output_type": "display_data"
    },
    {
     "data": {
      "text/plain": [
       "BEEF3[i] =   1.2806 AGRO3[i] -   0.6416 + R[i], R[i] =   0.9485 R[i-1] + eps[i], eps ~ N(0,  0.0295^2)\n",
       "            (0.0408)            (0.0955)                (0.0251)\n",
       "\n",
       "R[2015-11-27] = 0.0314 (t = 0.402)\n",
       "\n",
       "WARNING: AGRO3 and BEEF3 do not appear to be cointegrated."
      ]
     },
     "metadata": {},
     "output_type": "display_data"
    },
    {
     "data": {
      "text/plain": [
       "BRFS3[i] =   0.1001 BEEF3[i] +   3.9460 + R[i], R[i] =   1.0000 R[i-1] + eps[i], eps ~ N(0,  0.0168^2)\n",
       "            (0.0222)            (0.0523)                (0.0188)\n",
       "\n",
       "R[2015-11-27] = -0.1695 (t = -2.805)\n",
       "\n",
       "WARNING: BEEF3 and BRFS3 do not appear to be cointegrated."
      ]
     },
     "metadata": {},
     "output_type": "display_data"
    },
    {
     "data": {
      "text/plain": [
       "MRFG3[i] =   0.8569 BEEF3[i] -   0.3360 + R[i], R[i] =   0.9843 R[i-1] + eps[i], eps ~ N(0,  0.0273^2)\n",
       "            (0.0352)            (0.0829)                (0.0190)\n",
       "\n",
       "R[2015-11-27] = 0.0959 (t = 1.002)\n",
       "\n",
       "WARNING: BEEF3 and MRFG3 do not appear to be cointegrated."
      ]
     },
     "metadata": {},
     "output_type": "display_data"
    },
    {
     "data": {
      "text/plain": [
       "JBSS3[i] =   0.8921 BRFS3[i] -   1.0589 + R[i], R[i] =   1.0000 R[i-1] + eps[i], eps ~ N(0,  0.0236^2)\n",
       "            (0.1316)            (0.5502)                (0.0126)\n",
       "\n",
       "R[2015-11-27] = 0.0724 (t = 0.583)\n",
       "\n",
       "WARNING: BRFS3 and JBSS3 do not appear to be cointegrated."
      ]
     },
     "metadata": {},
     "output_type": "display_data"
    }
   ],
   "source": [
    "egcm(dados[0:225]$AGRO3,dados[0:225]$SLCE3)\n",
    "egcm(dados[0:225]$AGRO3,dados[0:225]$BEEF3)\n",
    "egcm(dados[0:225]$BEEF3,dados[0:225]$BRFS3)\n",
    "egcm(dados[0:225]$BEEF3,dados[0:225]$MRFG3)\n",
    "egcm(dados[0:225]$BRFS3,dados[0:225]$JBSS3)"
   ]
  },
  {
   "cell_type": "code",
   "execution_count": 19,
   "metadata": {},
   "outputs": [
    {
     "data": {
      "text/plain": [
       "SLCE3[i] =  -0.4929 AGRO3[i] +   3.9355 + R[i], R[i] =   0.9605 R[i-1] + eps[i], eps ~ N(0,  0.0209^2)\n",
       "            (0.0556)            (0.1357)                (0.0232)\n",
       "\n",
       "R[2016-10-25] = -0.0256 (t = -0.427)\n",
       "\n",
       "WARNING: AGRO3 and SLCE3 do not appear to be cointegrated."
      ]
     },
     "metadata": {},
     "output_type": "display_data"
    },
    {
     "data": {
      "text/plain": [
       "BEEF3[i] =  -0.9742 AGRO3[i] +   4.7112 + R[i], R[i] =   0.9670 R[i-1] + eps[i], eps ~ N(0,  0.0272^2)\n",
       "            (0.0732)            (0.1787)                (0.0229)\n",
       "\n",
       "R[2016-10-25] = -0.0346 (t = -0.439)\n",
       "\n",
       "WARNING: AGRO3 and BEEF3 do not appear to be cointegrated."
      ]
     },
     "metadata": {},
     "output_type": "display_data"
    },
    {
     "data": {
      "text/plain": [
       "BRFS3[i] =   0.2272 BEEF3[i] +   3.4067 + R[i], R[i] =   0.9966 R[i-1] + eps[i], eps ~ N(0,  0.0172^2)\n",
       "            (0.0441)            (0.1037)                (0.0164)\n",
       "\n",
       "R[2016-10-25] = 0.0292 (t = 0.420)\n",
       "\n",
       "WARNING: BEEF3 and BRFS3 do not appear to be cointegrated."
      ]
     },
     "metadata": {},
     "output_type": "display_data"
    },
    {
     "data": {
      "text/plain": [
       "MRFG3[i] =   0.4318 BEEF3[i] +   0.7640 + R[i], R[i] =   0.9914 R[i-1] + eps[i], eps ~ N(0,  0.0186^2)\n",
       "            (0.0434)            (0.1021)                (0.0180)\n",
       "\n",
       "R[2016-10-25] = 0.0229 (t = 0.334)\n",
       "\n",
       "WARNING: BEEF3 and MRFG3 do not appear to be cointegrated."
      ]
     },
     "metadata": {},
     "output_type": "display_data"
    },
    {
     "data": {
      "text/plain": [
       "JBSS3[i] =   1.1262 BRFS3[i] -   2.0470 + R[i], R[i] =   0.8248 R[i-1] + eps[i], eps ~ N(0,  0.0379^2)\n",
       "            (0.0583)            (0.2304)                (0.0394)\n",
       "\n",
       "R[2016-10-25] = 0.0492 (t = 0.765)"
      ]
     },
     "metadata": {},
     "output_type": "display_data"
    }
   ],
   "source": [
    "egcm(dados[225:nrow(dados)]$AGRO3,dados[225:nrow(dados)]$SLCE3)\n",
    "egcm(dados[225:nrow(dados)]$AGRO3,dados[225:nrow(dados)]$BEEF3)\n",
    "egcm(dados[225:nrow(dados)]$BEEF3,dados[225:nrow(dados)]$BRFS3)\n",
    "egcm(dados[225:nrow(dados)]$BEEF3,dados[225:nrow(dados)]$MRFG3)\n",
    "egcm(dados[225:nrow(dados)]$BRFS3,dados[225:nrow(dados)]$JBSS3)\n",
    "\n"
   ]
  },
  {
   "cell_type": "markdown",
   "metadata": {},
   "source": [
    "Sim, quando mudamos o tamanho da amostra, os resultados do teste para BEEF e JBSS na primeira metade da amostra mudam, no entanto na segunda metade, elas continuam a ser cointegradas <hr>"
   ]
  },
  {
   "cell_type": "markdown",
   "metadata": {},
   "source": [
    "**(7) Realize os testes do item (5), desta vez usando a metodologia de Johansen. Compare os resultados com aqueles obtidos no item 5.**\n",
    "\n",
    " Valores Críticos do teste de Johansen: \n",
    " \n",
    "\n",
    "|        | 10%   | 5%    | 1%    |\n",
    "|--------|-------|-------|-------|\n",
    "| r <= 1 | 6.50  | 8.18  | 11.65 |\n",
    "| r = 0  | 15.66 | 17.95 | 23.52 |"
   ]
  },
  {
   "cell_type": "code",
   "execution_count": 41,
   "metadata": {},
   "outputs": [
    {
     "name": "stdout",
     "output_type": "stream",
     "text": [
      "[1] \"AGRO3 e SLCE3\"\n"
     ]
    },
    {
     "data": {
      "text/plain": [
       "\n",
       "###################### \n",
       "# Johansen-Procedure # \n",
       "###################### \n",
       "\n",
       "Test type: trace statistic , with linear trend \n",
       "\n",
       "Eigenvalues (lambda):\n",
       "[1] 0.01934796 0.01032039\n",
       "\n",
       "Values of teststatistic and critical values of test:\n",
       "\n",
       "          test 10pct  5pct  1pct\n",
       "r <= 1 |  4.65  6.50  8.18 11.65\n",
       "r = 0  | 13.40 15.66 17.95 23.52\n",
       "\n",
       "Eigenvectors, normalised to first column:\n",
       "(These are the cointegration relations)\n",
       "\n",
       "         AGRO3.l2  SLCE3.l2\n",
       "AGRO3.l2 1.000000  1.000000\n",
       "SLCE3.l2 2.014548 -1.010244\n",
       "\n",
       "Weights W:\n",
       "(This is the loading matrix)\n",
       "\n",
       "            AGRO3.l2    SLCE3.l2\n",
       "AGRO3.d -0.002486487 -0.01142645\n",
       "SLCE3.d -0.013310799  0.00215427\n"
      ]
     },
     "metadata": {},
     "output_type": "display_data"
    },
    {
     "name": "stdout",
     "output_type": "stream",
     "text": [
      "[1] \"AGRO3 e BEEF3\"\n"
     ]
    },
    {
     "data": {
      "text/plain": [
       "\n",
       "##################################################### \n",
       "# Johansen-Procedure Unit Root / Cointegration Test # \n",
       "##################################################### \n",
       "\n",
       "The value of the test statistic is: 3.2604 8.3313 \n"
      ]
     },
     "metadata": {},
     "output_type": "display_data"
    },
    {
     "name": "stdout",
     "output_type": "stream",
     "text": [
      "[1] \"BEEF3 e MRFG3\"\n"
     ]
    },
    {
     "data": {
      "text/plain": [
       "\n",
       "##################################################### \n",
       "# Johansen-Procedure Unit Root / Cointegration Test # \n",
       "##################################################### \n",
       "\n",
       "The value of the test statistic is: 4.3771 12.515 \n"
      ]
     },
     "metadata": {},
     "output_type": "display_data"
    },
    {
     "name": "stdout",
     "output_type": "stream",
     "text": [
      "[1] \"BRFS3 e JBSS3\"\n"
     ]
    },
    {
     "data": {
      "text/plain": [
       "\n",
       "##################################################### \n",
       "# Johansen-Procedure Unit Root / Cointegration Test # \n",
       "##################################################### \n",
       "\n",
       "The value of the test statistic is: 3.615 10.5579 \n"
      ]
     },
     "metadata": {},
     "output_type": "display_data"
    },
    {
     "name": "stdout",
     "output_type": "stream",
     "text": [
      "[1] \"BRFS3 e JBSS3\"\n"
     ]
    },
    {
     "data": {
      "text/plain": [
       "\n",
       "###################### \n",
       "# Johansen-Procedure # \n",
       "###################### \n",
       "\n",
       "Test type: trace statistic , with linear trend \n",
       "\n",
       "Eigenvalues (lambda):\n",
       "[1] 0.034214120 0.003770823\n",
       "\n",
       "Values of teststatistic and critical values of test:\n",
       "\n",
       "          test 10pct  5pct  1pct\n",
       "r <= 1 |  1.69  6.50  8.18 11.65\n",
       "r = 0  | 17.29 15.66 17.95 23.52\n",
       "\n",
       "Eigenvectors, normalised to first column:\n",
       "(These are the cointegration relations)\n",
       "\n",
       "           BRFS3.l2  JBSS3.l2\n",
       "BRFS3.l2  1.0000000 1.0000000\n",
       "JBSS3.l2 -0.7964346 0.3203387\n",
       "\n",
       "Weights W:\n",
       "(This is the loading matrix)\n",
       "\n",
       "            BRFS3.l2     JBSS3.l2\n",
       "BRFS3.d -0.002759101 -0.005660837\n",
       "JBSS3.d  0.072506401 -0.003742185\n"
      ]
     },
     "metadata": {},
     "output_type": "display_data"
    }
   ],
   "source": [
    "print(\"AGRO3 e SLCE3\")\n",
    "summary(ca.jo(cbind(dados$AGRO3,dados$SLCE3), type='trace'))\n",
    "print(\"AGRO3 e BEEF3\")\n",
    "ca.jo(cbind(dados$AGRO3,dados$BEEF3), type='trace')\n",
    "print(\"BEEF3 e MRFG3\")\n",
    "ca.jo(cbind(dados$BEEF3,dados$BRFS3), type='trace')\n",
    "print(\"BRFS3 e JBSS3\")\n",
    "ca.jo(cbind(dados$BEEF3,dados$MRFG3), type='trace')\n",
    "print(\"BRFS3 e JBSS3\")\n",
    "summary(ca.jo(cbind(dados$BRFS3,dados$JBSS3), type='trace'))"
   ]
  },
  {
   "cell_type": "markdown",
   "metadata": {},
   "source": [
    "Os restultados do teste de Johansen confirmam que há uma cointegração entre JBS e BRF."
   ]
  }
 ],
 "metadata": {
  "kernelspec": {
   "display_name": "R",
   "language": "R",
   "name": "ir"
  },
  "language_info": {
   "codemirror_mode": "r",
   "file_extension": ".r",
   "mimetype": "text/x-r-source",
   "name": "R",
   "pygments_lexer": "r",
   "version": "3.4.2"
  }
 },
 "nbformat": 4,
 "nbformat_minor": 2
}
