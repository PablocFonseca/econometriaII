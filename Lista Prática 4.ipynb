{
 "cells": [
  {
   "cell_type": "markdown",
   "metadata": {},
   "source": [
    "### Lista Prática 4 - Pablo Corrêa Fonseca"
   ]
  },
  {
   "cell_type": "markdown",
   "metadata": {},
   "source": [
    "**1. Importe para o R os dados do arquivo “dados_03.csv” e converta as variáveis YIG,\n",
    "YIGD, IBCBR, IBCBRD, IPCA e TJ para séries de tempo usando o comando “ts”. [Obs.:\n",
    "YIG = produção física industrial; YIGD = produção física industrial dessazonalizada; IPCA\n",
    "= índice do IPCA; TJ = taxa Selic; IBCBR = índice de atividade do BCB].**"
   ]
  },
  {
   "cell_type": "code",
   "execution_count": 4,
   "metadata": {},
   "outputs": [
    {
     "data": {
      "text/plain": [
       "               TJ    IPCA  IBCBR IBCBRD  YIG YIGD\n",
       "2003-01-01 1.9713 2085.68  96.15 100.44 74.0 79.3\n",
       "2003-02-01 1.8304 2118.43  98.67 101.83 71.8 79.5\n",
       "2003-03-01 1.7770 2144.49 103.41 102.17 77.4 79.5\n",
       "2003-04-01 1.8716 2165.29 102.19 101.43 76.5 79.2\n",
       "2003-05-01 1.9654 2178.50 100.30  99.67 79.7 77.9\n",
       "2003-06-01 1.8567 2175.23  98.58 100.39 76.3 78.0"
      ]
     },
     "metadata": {},
     "output_type": "display_data"
    }
   ],
   "source": [
    "library('xts')\n",
    "df = read.csv2('dados03.csv', sep=\";\", dec=\",\")\n",
    "datas = seq(as.Date(\"2003-01-01\"),length=nrow(df),by=\"months\")\n",
    "df = xts(df[0:-1], datas)\n",
    "head(df)"
   ]
  },
  {
   "cell_type": "markdown",
   "metadata": {},
   "source": [
    "**2 . Crie a variável “taxa de juros mensal real (ex-post)”, por meio do comando:\n",
    "“tjr=((1+tj/100)/(ipca/lag(ipca,-1))-1)*100”. Realize o teste ADF para esta variável, nas\n",
    "especificações com constante e com constante+tendência. O PGD possui raiz unitária?\n",
    "Parece estacionário ou não estacionário?**"
   ]
  },
  {
   "cell_type": "code",
   "execution_count": 6,
   "metadata": {},
   "outputs": [
    {
     "data": {
      "text/plain": [
       "               TJ    IPCA  IBCBR IBCBRD  YIG YIGD      TJR\n",
       "2003-01-01 1.9713 2085.68  96.15 100.44 74.0 79.3 3.572485\n",
       "2003-02-01 1.8304 2118.43  98.67 101.83 71.8 79.5 3.083073\n",
       "2003-03-01 1.7770 2144.49 103.41 102.17 77.4 79.5 2.764163\n",
       "2003-04-01 1.8716 2165.29 102.19 101.43 76.5 79.2 2.493098\n",
       "2003-05-01 1.9654 2178.50 100.30  99.67 79.7 77.9 1.812347\n",
       "2003-06-01 1.8567 2175.23  98.58 100.39 76.3 78.0 2.060392"
      ]
     },
     "metadata": {},
     "output_type": "display_data"
    },
    {
     "data": {
      "text/html": [
       "'drift'"
      ],
      "text/latex": [
       "'drift'"
      ],
      "text/markdown": [
       "'drift'"
      ],
      "text/plain": [
       "[1] \"drift\""
      ]
     },
     "metadata": {},
     "output_type": "display_data"
    },
    {
     "data": {
      "text/html": [
       "<table>\n",
       "<thead><tr><th></th><th scope=col>tau2</th><th scope=col>phi1</th></tr></thead>\n",
       "<tbody>\n",
       "\t<tr><th scope=row>statistic</th><td>-4.855875</td><td>12.10422 </td></tr>\n",
       "</tbody>\n",
       "</table>\n"
      ],
      "text/latex": [
       "\\begin{tabular}{r|ll}\n",
       "  & tau2 & phi1\\\\\n",
       "\\hline\n",
       "\tstatistic & -4.855875 & 12.10422 \\\\\n",
       "\\end{tabular}\n"
      ],
      "text/markdown": [
       "\n",
       "| <!--/--> | tau2 | phi1 | \n",
       "|---|\n",
       "| statistic | -4.855875 | 12.10422  | \n",
       "\n",
       "\n"
      ],
      "text/plain": [
       "          tau2      phi1    \n",
       "statistic -4.855875 12.10422"
      ]
     },
     "metadata": {},
     "output_type": "display_data"
    },
    {
     "data": {
      "text/html": [
       "<table>\n",
       "<thead><tr><th></th><th scope=col>1pct</th><th scope=col>5pct</th><th scope=col>10pct</th></tr></thead>\n",
       "<tbody>\n",
       "\t<tr><th scope=row>tau2</th><td>-3.46</td><td>-2.88</td><td>-2.57</td></tr>\n",
       "\t<tr><th scope=row>phi1</th><td> 6.52</td><td> 4.63</td><td> 3.81</td></tr>\n",
       "</tbody>\n",
       "</table>\n"
      ],
      "text/latex": [
       "\\begin{tabular}{r|lll}\n",
       "  & 1pct & 5pct & 10pct\\\\\n",
       "\\hline\n",
       "\ttau2 & -3.46 & -2.88 & -2.57\\\\\n",
       "\tphi1 &  6.52 &  4.63 &  3.81\\\\\n",
       "\\end{tabular}\n"
      ],
      "text/markdown": [
       "\n",
       "| <!--/--> | 1pct | 5pct | 10pct | \n",
       "|---|---|\n",
       "| tau2 | -3.46 | -2.88 | -2.57 | \n",
       "| phi1 |  6.52 |  4.63 |  3.81 | \n",
       "\n",
       "\n"
      ],
      "text/plain": [
       "     1pct  5pct  10pct\n",
       "tau2 -3.46 -2.88 -2.57\n",
       "phi1  6.52  4.63  3.81"
      ]
     },
     "metadata": {},
     "output_type": "display_data"
    },
    {
     "data": {
      "text/html": [
       "'trend'"
      ],
      "text/latex": [
       "'trend'"
      ],
      "text/markdown": [
       "'trend'"
      ],
      "text/plain": [
       "[1] \"trend\""
      ]
     },
     "metadata": {},
     "output_type": "display_data"
    },
    {
     "data": {
      "text/html": [
       "<table>\n",
       "<thead><tr><th></th><th scope=col>tau3</th><th scope=col>phi2</th><th scope=col>phi3</th></tr></thead>\n",
       "<tbody>\n",
       "\t<tr><th scope=row>statistic</th><td>-4.98501</td><td>8.672161</td><td>12.69247</td></tr>\n",
       "</tbody>\n",
       "</table>\n"
      ],
      "text/latex": [
       "\\begin{tabular}{r|lll}\n",
       "  & tau3 & phi2 & phi3\\\\\n",
       "\\hline\n",
       "\tstatistic & -4.98501 & 8.672161 & 12.69247\\\\\n",
       "\\end{tabular}\n"
      ],
      "text/markdown": [
       "\n",
       "| <!--/--> | tau3 | phi2 | phi3 | \n",
       "|---|\n",
       "| statistic | -4.98501 | 8.672161 | 12.69247 | \n",
       "\n",
       "\n"
      ],
      "text/plain": [
       "          tau3     phi2     phi3    \n",
       "statistic -4.98501 8.672161 12.69247"
      ]
     },
     "metadata": {},
     "output_type": "display_data"
    },
    {
     "data": {
      "text/html": [
       "<table>\n",
       "<thead><tr><th></th><th scope=col>1pct</th><th scope=col>5pct</th><th scope=col>10pct</th></tr></thead>\n",
       "<tbody>\n",
       "\t<tr><th scope=row>tau3</th><td>-3.99</td><td>-3.43</td><td>-3.13</td></tr>\n",
       "\t<tr><th scope=row>phi2</th><td> 6.22</td><td> 4.75</td><td> 4.07</td></tr>\n",
       "\t<tr><th scope=row>phi3</th><td> 8.43</td><td> 6.49</td><td> 5.47</td></tr>\n",
       "</tbody>\n",
       "</table>\n"
      ],
      "text/latex": [
       "\\begin{tabular}{r|lll}\n",
       "  & 1pct & 5pct & 10pct\\\\\n",
       "\\hline\n",
       "\ttau3 & -3.99 & -3.43 & -3.13\\\\\n",
       "\tphi2 &  6.22 &  4.75 &  4.07\\\\\n",
       "\tphi3 &  8.43 &  6.49 &  5.47\\\\\n",
       "\\end{tabular}\n"
      ],
      "text/markdown": [
       "\n",
       "| <!--/--> | 1pct | 5pct | 10pct | \n",
       "|---|---|---|\n",
       "| tau3 | -3.99 | -3.43 | -3.13 | \n",
       "| phi2 |  6.22 |  4.75 |  4.07 | \n",
       "| phi3 |  8.43 |  6.49 |  5.47 | \n",
       "\n",
       "\n"
      ],
      "text/plain": [
       "     1pct  5pct  10pct\n",
       "tau3 -3.99 -3.43 -3.13\n",
       "phi2  6.22  4.75  4.07\n",
       "phi3  8.43  6.49  5.47"
      ]
     },
     "metadata": {},
     "output_type": "display_data"
    }
   ],
   "source": [
    "df$TJR=((1+df$TJ/100)/(df$IPCA/lag(df$IPCA,-1))-1)*100\n",
    "head(df)\n",
    "library('urca')\n",
    "t1 = ur.df(y=na.omit(df$TJR), type='drift', selectlags='BIC')\n",
    "t1@model\n",
    "t1@teststat\n",
    "t1@cval\n",
    "\n",
    "t2 = ur.df(y=na.omit(df$TJR), type='trend', selectlags='BIC')\n",
    "t2@model\n",
    "t2@teststat\n",
    "t2@cval"
   ]
  },
  {
   "cell_type": "markdown",
   "metadata": {},
   "source": [
    "tanto no teste drift, quanto no trend, rejeitamos a hipótese nula de que há raízes unitárias, e o PGD de TJR parece ser estacionário em torno de uma tendência"
   ]
  },
  {
   "cell_type": "markdown",
   "metadata": {},
   "source": [
    "**3 . Estime a regressão de tjr em uma constante e uma tendência linear. Apresente um\n",
    "gráfico com a série original e a ajustada, e outro gráfico com o resíduo da regressão.\n",
    "Qual poderia ser a interpretação econômica da variável ajustada da regressão? E do\n",
    "resíduo?**"
   ]
  },
  {
   "cell_type": "code",
   "execution_count": 7,
   "metadata": {
    "scrolled": false
   },
   "outputs": [
    {
     "data": {
      "text/plain": [
       "\n",
       "Call:\n",
       "lm(formula = coredata(df$TJR) ~ seq_along(df$TJR))\n",
       "\n",
       "Coefficients:\n",
       "      (Intercept)  seq_along(df$TJR)  \n",
       "         1.823226          -0.003501  \n"
      ]
     },
     "metadata": {},
     "output_type": "display_data"
    }
   ],
   "source": [
    "r1 = lm(formula = coredata(df$TJR) ~ seq_along(df$TJR))\n",
    "r1"
   ]
  },
  {
   "cell_type": "code",
   "execution_count": 8,
   "metadata": {
    "scrolled": false
   },
   "outputs": [
    {
     "data": {
      "image/png": "[encoded data removed]",
      "text/plain": [
       "plot without title"
      ]
     },
     "metadata": {},
     "output_type": "display_data"
    }
   ],
   "source": [
    "plot(coredata(df$TJR))\n",
    "lines(fitted.values(r1))"
   ]
  },
  {
   "cell_type": "code",
   "execution_count": 9,
   "metadata": {},
   "outputs": [
    {
     "data": {
      "image/png": "[encoded data removed]",
      "text/plain": [
       "plot without title"
      ]
     },
     "metadata": {},
     "output_type": "display_data"
    }
   ],
   "source": [
    "plot(residuals(r1), type='o')"
   ]
  },
  {
   "cell_type": "markdown",
   "metadata": {},
   "source": [
    "A interpretação econômica da variável ajustada da regressão é a tendência de queda da taxa de juros real para o período. O resíduo da regressão mostra a variação devido a outros fatores que não a tendência linear de queda"
   ]
  },
  {
   "cell_type": "markdown",
   "metadata": {},
   "source": [
    "**4 . Estime agora a regressão de tjr em uma constante e uma variável “dummy de degrau”,\n",
    "com valor 0 até 2006.12 e valor 1 dali em diante. Apresente um gráfico com a série **"
   ]
  },
  {
   "cell_type": "code",
   "execution_count": 10,
   "metadata": {},
   "outputs": [
    {
     "data": {
      "text/plain": [
       "\n",
       "Call:\n",
       "lm(formula = coredata(df$TJR) ~ coredata(df$DUMMY_DEGRAU))\n",
       "\n",
       "Coefficients:\n",
       "              (Intercept)  coredata(df$DUMMY_DEGRAU)  \n",
       "                   1.9059                    -0.5385  \n"
      ]
     },
     "metadata": {},
     "output_type": "display_data"
    }
   ],
   "source": [
    "df$DUMMY_DEGRAU = 1\n",
    "df[index(df) <= '2006-12-01','DUMMY_DEGRAU'] = 0\n",
    "r2 = lm(formula = coredata(df$TJR) ~ coredata(df$DUMMY_DEGRAU))\n",
    "r2"
   ]
  },
  {
   "cell_type": "code",
   "execution_count": 11,
   "metadata": {},
   "outputs": [
    {
     "data": {
      "image/png": "[encoded data removed]",
      "text/plain": [
       "plot without title"
      ]
     },
     "metadata": {},
     "output_type": "display_data"
    }
   ],
   "source": [
    "plot(coredata(df$TJR))\n",
    "lines(fitted.values(r2))"
   ]
  },
  {
   "cell_type": "code",
   "execution_count": 12,
   "metadata": {},
   "outputs": [
    {
     "data": {
      "image/png": "[encoded data removed]",
      "text/plain": [
       "plot without title"
      ]
     },
     "metadata": {},
     "output_type": "display_data"
    }
   ],
   "source": [
    "plot(residuals(r2), type='o')"
   ]
  },
  {
   "cell_type": "markdown",
   "metadata": {},
   "source": [
    "**5 . Aplique o filtro HP à série tjr, usando o valor padrão de “lambda”. Salve os resultados.\n",
    "Em seguida, repita a operação com “lambda=10000”. Salve os resultados**"
   ]
  },
  {
   "cell_type": "code",
   "execution_count": 14,
   "metadata": {},
   "outputs": [],
   "source": [
    "library('mFilter')\n",
    "hp1 = hpfilter(na.omit(df$TJR), freq=14400)\n",
    "hp2 = hpfilter(na.omit(df$TJR), freq=10000)"
   ]
  },
  {
   "cell_type": "markdown",
   "metadata": {},
   "source": [
    "** 6. Apresente em um gráfico as variáveis ajustadas obtidas nos itens 3, 4 e 5 acima (aregressão\n",
    "em tendência determinística; b- regressão em dummy; c- HP padrão; d- HP\n",
    "com lambda menor). Comente as diferenças e semelhanças. Qual procedimento você\n",
    "julga mais adequado para captar o componente tendencial da tjr?  **"
   ]
  },
  {
   "cell_type": "code",
   "execution_count": 15,
   "metadata": {},
   "outputs": [
    {
     "data": {
      "image/png": "[encoded data removed]",
      "text/plain": [
       "plot without title"
      ]
     },
     "metadata": {},
     "output_type": "display_data"
    }
   ],
   "source": [
    "plot(y=as.numeric(df$TJR), x = index(df), type='b')\n",
    "lines(y=fitted(r1),  x = index(na.omit(df)), col='red')\n",
    "lines(y=fitted(r2),  x = index(na.omit(df)), col='blue')\n",
    "lines(y=as.numeric(hp1$trend),  x = index(na.omit(df)), col='green')\n",
    "lines(y=as.numeric(hp2$trend),  x = index(na.omit(df)), col='magenta')"
   ]
  },
  {
   "cell_type": "markdown",
   "metadata": {},
   "source": [
    "a <span style=\"color:red;\">primeira regressão</span> captura a tendencia como linear e constante ao longo do período, a <span style=\"color:blue;\">segunda</span> captura a tendência como constante em dois períodos distintos com uma quebra estrutural entre eles. Tanto o <span style=\"color:green;\">filtro hp com lambda = 14400</span> quanto o <span style=\"color:magenta;\">filtro hp com lambda = 10000</span> se ajustam aos dados de forma parecida, com sendo o com lambda maior menos volátil.\n",
    "\n",
    "Em todos os casos há uma arbitrariedade por conta da especificações dos parâmetros (ponto de quebra na segunda regressão, lambdas nos filtros hp, e a primeira regressão pode ser vista como um caso do filtro hp com  $ \\lambda \\to \\infty $).\n",
    "\n",
    "Um filtro HP com lambda elevado parece ser mais adequado para capturar a tendência."
   ]
  },
  {
   "cell_type": "markdown",
   "metadata": {},
   "source": [
    "** 7 . Compare graficamente, agora, os componentes cíclicos estimados sob os\n",
    "procedimentos: a-tend.determinística; c-HP padrão. Comente. **\n"
   ]
  },
  {
   "cell_type": "code",
   "execution_count": 16,
   "metadata": {},
   "outputs": [
    {
     "data": {
      "image/png": "[encoded data removed]",
      "text/plain": [
       "plot without title"
      ]
     },
     "metadata": {},
     "output_type": "display_data"
    }
   ],
   "source": [
    "plot(hp1$cycle, x=index(na.omit(df)), type='l', col='green')\n",
    "lines(r1$residuals, x=index(na.omit(df)), col='red')\n",
    "abline(0,0)"
   ]
  },
  {
   "cell_type": "markdown",
   "metadata": {},
   "source": [
    "nota-se que os desvios cíclicos são menores (mais próximos de zero) no procedimento HP Padrão\n",
    "\n",
    "**8 . Estime uma regressão da primeira diferença logarítimica de YIGD na tjr (e uma\n",
    "constante). Analise os resultados. A tjr parece afetar o produto industrial\n",
    "significativamente? **\n"
   ]
  },
  {
   "cell_type": "code",
   "execution_count": 17,
   "metadata": {
    "collapsed": true
   },
   "outputs": [],
   "source": [
    "df$d_yigd = diff(log(df$YIGD))"
   ]
  },
  {
   "cell_type": "code",
   "execution_count": 18,
   "metadata": {},
   "outputs": [
    {
     "data": {
      "text/plain": [
       "\n",
       "Call:\n",
       "lm(formula = d_yigd ~ 1 + TJR, data = data.frame(df))\n",
       "\n",
       "Residuals:\n",
       "      Min        1Q    Median        3Q       Max \n",
       "-0.136664 -0.007871  0.002428  0.009475  0.058166 \n",
       "\n",
       "Coefficients:\n",
       "             Estimate Std. Error t value Pr(>|t|)\n",
       "(Intercept)  0.004987   0.005273   0.946    0.346\n",
       "TJR         -0.002932   0.003382  -0.867    0.387\n",
       "\n",
       "Residual standard error: 0.01841 on 172 degrees of freedom\n",
       "  (2 observations deleted due to missingness)\n",
       "Multiple R-squared:  0.004351,\tAdjusted R-squared:  -0.001438 \n",
       "F-statistic: 0.7516 on 1 and 172 DF,  p-value: 0.3872\n"
      ]
     },
     "metadata": {},
     "output_type": "display_data"
    }
   ],
   "source": [
    "summary(lm(d_yigd ~ 1 + TJR, data = data.frame(df)))"
   ]
  },
  {
   "cell_type": "markdown",
   "metadata": {},
   "source": [
    "não parece haver relação estatisticamente significativa entre a primeira diferença logarítimica de YIGD e tjr."
   ]
  },
  {
   "cell_type": "markdown",
   "metadata": {},
   "source": [
    "** 9 . Estime agora a regressão da primeira diferença logarítimica de YIGD no ciclo da tjr\n",
    "estimado pelo método (a- tendência determinística). Compare os resultados aos\n",
    "obtidos no item anterior. **"
   ]
  },
  {
   "cell_type": "code",
   "execution_count": 19,
   "metadata": {},
   "outputs": [
    {
     "data": {
      "text/plain": [
       "\n",
       "Call:\n",
       "lm(formula = d_yigd ~ ciclo_a, data = data.frame(ciclo_a = residuals(r1), \n",
       "    na.omit(df$d_yigd)))\n",
       "\n",
       "Residuals:\n",
       "      Min        1Q    Median        3Q       Max \n",
       "-0.138103 -0.008212  0.001966  0.009649  0.058366 \n",
       "\n",
       "Coefficients:\n",
       "              Estimate Std. Error t value Pr(>|t|)\n",
       "(Intercept)  0.0005361  0.0013850   0.387    0.699\n",
       "ciclo_a     -0.0043114  0.0034373  -1.254    0.211\n",
       "\n",
       "Residual standard error: 0.01832 on 173 degrees of freedom\n",
       "Multiple R-squared:  0.009012,\tAdjusted R-squared:  0.003284 \n",
       "F-statistic: 1.573 on 1 and 173 DF,  p-value: 0.2114\n"
      ]
     },
     "metadata": {},
     "output_type": "display_data"
    }
   ],
   "source": [
    "summary(lm(d_yigd ~ ciclo_a, data=data.frame(ciclo_a=residuals(r1), na.omit(df$d_yigd))))"
   ]
  },
  {
   "cell_type": "markdown",
   "metadata": {},
   "source": [
    "Em linha com os resultados do item anterior, não parece haver significância estatística na relação entre a primeira diferença logarítimica de YIGD e o ciclo da tjr"
   ]
  },
  {
   "cell_type": "markdown",
   "metadata": {},
   "source": [
    "** 10 . Estime agora a regressão da primeira diferença logarítimica de YIGD no ciclo da tjr\n",
    "estimado pelo método (c- filtro HP). Compare os resultados aos obtidos nos itens\n",
    "anteriores. **"
   ]
  },
  {
   "cell_type": "code",
   "execution_count": 20,
   "metadata": {},
   "outputs": [
    {
     "data": {
      "text/plain": [
       "\n",
       "Call:\n",
       "lm(formula = d_yigd ~ ciclo_c, data = data.frame(ciclo_c = hp1$cycle, \n",
       "    na.omit(df$d_yigd)))\n",
       "\n",
       "Residuals:\n",
       "      Min        1Q    Median        3Q       Max \n",
       "-0.136930 -0.007810  0.002201  0.009704  0.060039 \n",
       "\n",
       "Coefficients:\n",
       "              Estimate Std. Error t value Pr(>|t|)\n",
       "(Intercept)  0.0005361  0.0013851   0.387    0.699\n",
       "ciclo_c     -0.0061135  0.0048975  -1.248    0.214\n",
       "\n",
       "Residual standard error: 0.01832 on 173 degrees of freedom\n",
       "Multiple R-squared:  0.008927,\tAdjusted R-squared:  0.003198 \n",
       "F-statistic: 1.558 on 1 and 173 DF,  p-value: 0.2136\n"
      ]
     },
     "metadata": {},
     "output_type": "display_data"
    }
   ],
   "source": [
    "summary(lm(d_yigd ~ ciclo_c, data=data.frame(ciclo_c=hp1$cycle, na.omit(df$d_yigd))))"
   ]
  },
  {
   "cell_type": "markdown",
   "metadata": {},
   "source": [
    "mais uma vez, em linha com os resultados anteriores, não a evidência estatística de relação entre as variáveis.\n",
    "\n",
    "**11 . Aplique o filtro HP à série YIGD em logaritmo, usando o valor padrão de “lambda”. Em\n",
    "seguida, estime a regressão do ciclo de YIGD assim obtido no ciclo da tjr estimado pelo\n",
    "método (c- filtro HP). Compare os resultados aos obtidos nos itens anteriores**"
   ]
  },
  {
   "cell_type": "code",
   "execution_count": 21,
   "metadata": {},
   "outputs": [
    {
     "data": {
      "text/plain": [
       "\n",
       "Call:\n",
       "lm(formula = hp_d_yigd ~ 1 + ciclo_c, data = data)\n",
       "\n",
       "Residuals:\n",
       "      Min        1Q    Median        3Q       Max \n",
       "-0.136939 -0.007938  0.002354  0.009276  0.059629 \n",
       "\n",
       "Coefficients:\n",
       "              Estimate Std. Error t value Pr(>|t|)\n",
       "(Intercept)  1.105e-18  1.361e-03   0.000    1.000\n",
       "ciclo_c     -4.824e-03  4.812e-03  -1.003    0.317\n",
       "\n",
       "Residual standard error: 0.018 on 173 degrees of freedom\n",
       "Multiple R-squared:  0.005776,\tAdjusted R-squared:  2.924e-05 \n",
       "F-statistic: 1.005 on 1 and 173 DF,  p-value: 0.3175\n"
      ]
     },
     "metadata": {},
     "output_type": "display_data"
    }
   ],
   "source": [
    "data=data.frame(ciclo_c=hp1$cycle, hp_d_yigd=hpfilter(na.omit(df$d_yigd), freq=14400)$cycle)\n",
    "summary(lm(hp_d_yigd ~ 1 + ciclo_c, data=data))"
   ]
  },
  {
   "cell_type": "markdown",
   "metadata": {},
   "source": [
    "nota se uma redução acentuada do erro padrão.\n",
    "\n",
    "**13 . Simule um processo ruído branco de tamanho 300 e analise sua FAC e FACP. Em\n",
    "seguida, aplique o filtro HP à série gerada e analise o par FAC/FACP do componente\n",
    "cíclico desta série. Compare com o par FAC/FACP da série original. Repita o\n",
    "procedimento algumas vezes. Os resultados obtidos sugerem alguma cautela no uso\n",
    "do filtro HP (e outros métodos de “suavização”)?**"
   ]
  },
  {
   "cell_type": "code",
   "execution_count": 22,
   "metadata": {},
   "outputs": [
    {
     "data": {
      "image/png": "[encoded data removed]",
      "text/plain": [
       "Plot with title \"Series  wn_hp\""
      ]
     },
     "metadata": {},
     "output_type": "display_data"
    }
   ],
   "source": [
    "wn = rnorm(300)\n",
    "wn_hp = hpfilter(wn, freq=1600)$cycle\n",
    "par(mfrow=c(2,2))\n",
    "acf(wn)\n",
    "pacf(wn)\n",
    "acf(wn_hp)\n",
    "pacf(wn_hp)"
   ]
  },
  {
   "cell_type": "markdown",
   "metadata": {},
   "source": [
    "Os resultados sugerem que o uso de métodos de suavização podem introduzir autocorrelação entre as variáveis."
   ]
  }
 ],
 "metadata": {
  "kernelspec": {
   "display_name": "R",
   "language": "R",
   "name": "ir"
  },
  "language_info": {
   "codemirror_mode": "r",
   "file_extension": ".r",
   "mimetype": "text/x-r-source",
   "name": "R",
   "pygments_lexer": "r",
   "version": "3.4.2"
  }
 },
 "nbformat": 4,
 "nbformat_minor": 2
}
