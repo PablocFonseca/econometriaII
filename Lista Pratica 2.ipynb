{
 "cells": [
  {
   "cell_type": "code",
   "execution_count": null,
   "metadata": {},
   "outputs": [],
   "source": [
    "%matplotlib inline\n",
    "import statsmodels.api as sm\n",
    "import pandas as pd\n",
    "\n",
    "import warnings\n",
    "warnings.filterwarnings('ignore')"
   ]
  },
  {
   "cell_type": "markdown",
   "metadata": {},
   "source": [
    "1. Importe para o R os dados do arquivo “dados_ 01.csv” e converta as variáveis acima\n",
    "para séries de tempo usando o comando “ts”"
   ]
  },
  {
   "cell_type": "code",
   "execution_count": 2,
   "metadata": {},
   "outputs": [
    {
     "data": {
      "text/html": [
       "<div>\n",
       "<style>\n",
       "    .dataframe thead tr:only-child th {\n",
       "        text-align: right;\n",
       "    }\n",
       "\n",
       "    .dataframe thead th {\n",
       "        text-align: left;\n",
       "    }\n",
       "\n",
       "    .dataframe tbody tr th {\n",
       "        vertical-align: top;\n",
       "    }\n",
       "</style>\n",
       "<table border=\"1\" class=\"dataframe\">\n",
       "  <thead>\n",
       "    <tr style=\"text-align: right;\">\n",
       "      <th></th>\n",
       "      <th>SELIC</th>\n",
       "      <th>UTCAP</th>\n",
       "      <th>INF</th>\n",
       "      <th>EXPINF</th>\n",
       "    </tr>\n",
       "  </thead>\n",
       "  <tbody>\n",
       "    <tr>\n",
       "      <th>2003-01</th>\n",
       "      <td>25.0</td>\n",
       "      <td>80.4</td>\n",
       "      <td>2.25</td>\n",
       "      <td>11.72</td>\n",
       "    </tr>\n",
       "    <tr>\n",
       "      <th>2003-02</th>\n",
       "      <td>25.5</td>\n",
       "      <td>80.2</td>\n",
       "      <td>1.57</td>\n",
       "      <td>11.07</td>\n",
       "    </tr>\n",
       "    <tr>\n",
       "      <th>2003-03</th>\n",
       "      <td>26.5</td>\n",
       "      <td>79.7</td>\n",
       "      <td>1.23</td>\n",
       "      <td>9.90</td>\n",
       "    </tr>\n",
       "    <tr>\n",
       "      <th>2003-04</th>\n",
       "      <td>26.5</td>\n",
       "      <td>79.7</td>\n",
       "      <td>0.97</td>\n",
       "      <td>9.18</td>\n",
       "    </tr>\n",
       "    <tr>\n",
       "      <th>2003-05</th>\n",
       "      <td>26.5</td>\n",
       "      <td>79.9</td>\n",
       "      <td>0.61</td>\n",
       "      <td>8.23</td>\n",
       "    </tr>\n",
       "  </tbody>\n",
       "</table>\n",
       "</div>"
      ],
      "text/plain": [
       "         SELIC  UTCAP   INF  EXPINF\n",
       "2003-01   25.0   80.4  2.25   11.72\n",
       "2003-02   25.5   80.2  1.57   11.07\n",
       "2003-03   26.5   79.7  1.23    9.90\n",
       "2003-04   26.5   79.7  0.97    9.18\n",
       "2003-05   26.5   79.9  0.61    8.23"
      ]
     },
     "execution_count": 2,
     "metadata": {},
     "output_type": "execute_result"
    }
   ],
   "source": [
    "#carrega os dados e ajusta o index para períodos mensais\n",
    "data = pd.read_csv('dados_01.csv',sep=';', decimal=',', index_col=0)\n",
    "data.index = pd.to_datetime(dict(year=data.index.map(int), month=((data.index*100).map(int) % 100), day=1))\n",
    "data = data.to_period('M')\n",
    "data.head()"
   ]
  },
  {
   "cell_type": "markdown",
   "metadata": {},
   "source": [
    "Selecione a ordem de defasagens ótima de um modelo VAR para estas variáveis, com\n",
    "base nos Critérios de Informação de Akaike, Schwarz e Hannan-Quinn, bem como no\n",
    "teste de Razão de Verossimilhança (RV), considerando um máximo possível de 12\n",
    "defasagens. As rotinas VARselect, do pacote vars, e VARorder, do pacote MTS,\n",
    "fornecem os CIs, mas somente a segunda rotina realiza o teste de RV. [Para este\n",
    "comando, supondo que a matriz de dados do VAR seja y, a sintaxe é:\n",
    "VARorder(y,lag.max=12) ]."
   ]
  },
  {
   "cell_type": "code",
   "execution_count": 3,
   "metadata": {
    "collapsed": true
   },
   "outputs": [],
   "source": [
    "#cria o modelo VAR\n",
    "model = sm.tsa.VAR(data)"
   ]
  },
  {
   "cell_type": "code",
   "execution_count": 4,
   "metadata": {},
   "outputs": [
    {
     "name": "stdout",
     "output_type": "stream",
     "text": [
      "                 VAR Order Selection                  \n",
      "======================================================\n",
      "            aic          bic          fpe         hqic\n",
      "------------------------------------------------------\n",
      "0        0.3740       0.4509        1.454       0.4052\n",
      "1        -9.933      -9.548*    4.856e-05      -9.777*\n",
      "2        -10.02       -9.331    4.439e-05       -9.742\n",
      "3        -10.02       -9.016    4.476e-05       -9.610\n",
      "4        -10.24       -8.931    3.589e-05       -9.708\n",
      "5       -10.24*       -8.629   3.581e-05*       -9.588\n",
      "6        -10.20       -8.274    3.770e-05       -9.416\n",
      "7        -10.20       -7.973    3.767e-05       -9.298\n",
      "8        -10.22       -7.686    3.720e-05       -9.193\n",
      "9        -10.19       -7.341    3.903e-05       -9.030\n",
      "10       -10.22       -7.069    3.813e-05       -8.941\n",
      "11       -10.14       -6.679    4.209e-05       -8.733\n",
      "12       -10.05       -6.281    4.691e-05       -8.519\n",
      "13       -9.966       -5.892    5.209e-05       -8.312\n",
      "14       -9.899       -5.517    5.722e-05       -8.120\n",
      "======================================================\n",
      "* Minimum\n",
      "\n"
     ]
    },
    {
     "data": {
      "text/plain": [
       "{'aic': 5, 'bic': 1, 'fpe': 5, 'hqic': 1}"
      ]
     },
     "execution_count": 4,
     "metadata": {},
     "output_type": "execute_result"
    }
   ],
   "source": [
    "model.select_order()"
   ]
  },
  {
   "cell_type": "markdown",
   "metadata": {},
   "source": [
    "Verifique a presença de autocorrelação residual com base nos testes Portmanteau (6 e\n",
    "12 defasagens) e LM de Breusch-Godfrey (até 4 defasagens)."
   ]
  },
  {
   "cell_type": "code",
   "execution_count": 237,
   "metadata": {},
   "outputs": [
    {
     "name": "stdout",
     "output_type": "stream",
     "text": [
      "SELIC [ 0.56320587  0.80680051  0.66572639  0.73851806  0.80107481  0.30428484\n",
      "  0.27170086  0.35812398  0.42931385  0.51820299  0.24941299  0.27612047] \n",
      "\n",
      "UTCAP [ 0.8488243   0.90053504  0.93180308  0.90809154  0.81941048  0.86101208\n",
      "  0.9186195   0.95380236  0.87479008  0.75917631  0.80716363  0.63251075] \n",
      "\n",
      "INF [ 0.86089954  0.73830308  0.8948515   0.86953052  0.86764958  0.76847227\n",
      "  0.51459747  0.44979975  0.54285487  0.50139496  0.54621717  0.63080747] \n",
      "\n",
      "EXPINF [ 0.79188065  0.96528168  0.97748512  0.96155851  0.94961337  0.9660936\n",
      "  0.98549924  0.97206745  0.96079981  0.7039296   0.51185726  0.52814901] \n",
      "\n"
     ]
    }
   ],
   "source": [
    "#diferente do R,o pacote statsmodels não possui o teste Portmanteau multivariavel\n",
    "#o codigo abaixo reporta o p-valor do teste para cada variável em separado, até 12 lags.\n",
    "fit6 = model.fit(maxlags=5)\n",
    "for col in fit6.resid.columns:\n",
    "    print(col,sm.stats.diagnostic.acorr_ljungbox(fit6.resid[col], lags=12, boxpierce=False)[1],'\\n')"
   ]
  },
  {
   "cell_type": "markdown",
   "metadata": {},
   "source": [
    "Com base nos resultados anteriores, escolha o melhor modelo VAR para as variáveis analisadas."
   ]
  },
  {
   "cell_type": "code",
   "execution_count": 52,
   "metadata": {},
   "outputs": [
    {
     "data": {
      "image/png": "[encoded data removed]",
      "text/plain": [
       "<matplotlib.figure.Figure at 0x1f423e69fd0>"
      ]
     },
     "metadata": {},
     "output_type": "display_data"
    }
   ],
   "source": [
    "#escolemos o modelo com 5 defasagens\n",
    "fit5 = model.fit(maxlags=5)\n",
    "fit5.plotsim()"
   ]
  },
  {
   "cell_type": "markdown",
   "metadata": {
    "collapsed": true
   },
   "source": [
    "Importe para o R os dados do arquivo “dados_02.csv”. As séries estão agrupadas de 4 em 4, e cada aluno deverá analisar um grupo específico (p.ex., V1 a V4, V5 a V8 etc.), conforme definido em aula.\n",
    "\n",
    "Deverão ser considerados os seguintes possíveis modelos: (i) ARIMA para X1 (identificado pela metodologia Box-Jenkins), (ii) VAR para X1 e X2; (iii) VAR para X1, X2, X3 e X4; (iv) ARMADL para X1 e X2. Em cada caso, o aluno deve buscar a melhor especificação possível para a amostra restrita às primeiras 200 observações.\n",
    "\n",
    "Em seguida, o aluno deve avaliar o desempenho preditivo de cada modelo por meio do\n",
    "seguinte procedimento: (i) estimar cada modelo usando apenas as primeiras 200\n",
    "observações; (ii) realizar previsões a partir do modelo estimado para as próximas 20\n",
    "observações, mantendo a amostra de estimação fixa em T=200; (iii) calcular o EQM de\n",
    "previsão; (iv) selecionar o modelo com menor EQM. [obs. No caso do modelo\n",
    "ARMADL, é necessário gerar também previsões de X2, o que pode ser feito a partir de\n",
    "um modelo ARIMA]"
   ]
  },
  {
   "cell_type": "code",
   "execution_count": 202,
   "metadata": {},
   "outputs": [
    {
     "data": {
      "text/html": [
       "<div>\n",
       "<style>\n",
       "    .dataframe thead tr:only-child th {\n",
       "        text-align: right;\n",
       "    }\n",
       "\n",
       "    .dataframe thead th {\n",
       "        text-align: left;\n",
       "    }\n",
       "\n",
       "    .dataframe tbody tr th {\n",
       "        vertical-align: top;\n",
       "    }\n",
       "</style>\n",
       "<table border=\"1\" class=\"dataframe\">\n",
       "  <thead>\n",
       "    <tr style=\"text-align: right;\">\n",
       "      <th></th>\n",
       "      <th>V5</th>\n",
       "      <th>V6</th>\n",
       "      <th>V7</th>\n",
       "      <th>V8</th>\n",
       "    </tr>\n",
       "  </thead>\n",
       "  <tbody>\n",
       "    <tr>\n",
       "      <th>2015-01-01</th>\n",
       "      <td>9.155180</td>\n",
       "      <td>10.002280</td>\n",
       "      <td>1.809067</td>\n",
       "      <td>0.951514</td>\n",
       "    </tr>\n",
       "    <tr>\n",
       "      <th>2015-01-02</th>\n",
       "      <td>9.127209</td>\n",
       "      <td>9.800345</td>\n",
       "      <td>1.811543</td>\n",
       "      <td>1.164562</td>\n",
       "    </tr>\n",
       "    <tr>\n",
       "      <th>2015-01-03</th>\n",
       "      <td>9.264625</td>\n",
       "      <td>9.907205</td>\n",
       "      <td>1.866863</td>\n",
       "      <td>1.326710</td>\n",
       "    </tr>\n",
       "    <tr>\n",
       "      <th>2015-01-04</th>\n",
       "      <td>9.280383</td>\n",
       "      <td>9.991321</td>\n",
       "      <td>1.974905</td>\n",
       "      <td>1.458685</td>\n",
       "    </tr>\n",
       "    <tr>\n",
       "      <th>2015-01-05</th>\n",
       "      <td>9.173986</td>\n",
       "      <td>9.977733</td>\n",
       "      <td>1.842954</td>\n",
       "      <td>1.431095</td>\n",
       "    </tr>\n",
       "  </tbody>\n",
       "</table>\n",
       "</div>"
      ],
      "text/plain": [
       "                  V5         V6        V7        V8\n",
       "2015-01-01  9.155180  10.002280  1.809067  0.951514\n",
       "2015-01-02  9.127209   9.800345  1.811543  1.164562\n",
       "2015-01-03  9.264625   9.907205  1.866863  1.326710\n",
       "2015-01-04  9.280383   9.991321  1.974905  1.458685\n",
       "2015-01-05  9.173986   9.977733  1.842954  1.431095"
      ]
     },
     "execution_count": 202,
     "metadata": {},
     "output_type": "execute_result"
    }
   ],
   "source": [
    "#a biblioteca statsmodels espera que as series temporais sejam indexadas por datas, como os dados não possuiam data\n",
    "#considerei dados diários desde jan/15\n",
    "data2 = pd.read_csv('dados_02.csv',sep=';', decimal=',', index_col=0, usecols=range(4,9))\n",
    "data2.index = pd.date_range(start='2015-01-01', periods=len(data2)) \n",
    "data2.head()"
   ]
  },
  {
   "cell_type": "code",
   "execution_count": 203,
   "metadata": {},
   "outputs": [
    {
     "data": {
      "text/plain": [
       "{'aic':             0           1           2\n",
       " 0 -273.420214 -408.329651 -406.698828\n",
       " 1 -344.703709 -406.699667 -404.700591\n",
       " 2 -383.086187 -404.706068 -403.448436\n",
       " 3 -387.579785 -405.544332 -403.632912\n",
       " 4 -388.339787 -403.736966 -404.601272,\n",
       " 'aic_min_order': (0, 1),\n",
       " 'bic':             0           1           2\n",
       " 0 -266.458936 -397.887734 -392.776272\n",
       " 1 -334.261792 -392.777111 -387.297396\n",
       " 2 -369.163631 -387.302874 -382.564602\n",
       " 3 -370.176591 -384.660498 -379.268440\n",
       " 4 -367.455954 -379.372493 -376.756161,\n",
       " 'bic_min_order': (0, 1),\n",
       " 'hqic':             0           1           2\n",
       " 0 -270.615327 -404.122321 -401.089054\n",
       " 1 -340.496379 -401.089893 -397.688374\n",
       " 2 -377.476413 -397.693851 -395.033776\n",
       " 3 -380.567569 -397.129672 -393.815809\n",
       " 4 -379.925127 -393.919862 -393.381725,\n",
       " 'hqic_min_order': (0, 1)}"
      ]
     },
     "execution_count": 203,
     "metadata": {},
     "output_type": "execute_result"
    }
   ],
   "source": [
    "#seleciona ordens p e q para o modelo arima AR são linhas e MA são colunas\n",
    "sm.tsa.arma_order_select_ic(data2['V5'].values, ic=['aic', 'bic', 'hqic'])"
   ]
  },
  {
   "cell_type": "code",
   "execution_count": 239,
   "metadata": {},
   "outputs": [],
   "source": [
    "modelo_arima = sm.tsa.ARIMA(data2.iloc[:200]['V5'],order=(0,1,1), exog=None).fit()\n",
    "forecast_arima = pd.DataFrame(modelo_arima.forecast(20)[0], columns=[data2.columns[0]], index=pd.date_range(start=data2.index[200], periods=20))"
   ]
  },
  {
   "cell_type": "code",
   "execution_count": 300,
   "metadata": {},
   "outputs": [
    {
     "name": "stdout",
     "output_type": "stream",
     "text": [
      "                 VAR Order Selection                  \n",
      "======================================================\n",
      "            aic          bic          fpe         hqic\n",
      "------------------------------------------------------\n",
      "0        -8.087       -8.052    0.0003075       -8.073\n",
      "1        -8.850       -8.746    0.0001434       -8.808\n",
      "2        -8.973      -8.800*    0.0001268      -8.903*\n",
      "3       -8.982*       -8.739   0.0001256*       -8.884\n",
      "4        -8.970       -8.658    0.0001271       -8.844\n",
      "5        -8.938       -8.556    0.0001314       -8.783\n",
      "6        -8.920       -8.469    0.0001337       -8.738\n",
      "7        -8.947       -8.427    0.0001302       -8.736\n",
      "8        -8.925       -8.336    0.0001331       -8.686\n",
      "9        -8.918       -8.259    0.0001342       -8.651\n",
      "10       -8.878       -8.150    0.0001397       -8.583\n",
      "11       -8.853       -8.055    0.0001433       -8.530\n",
      "12       -8.869       -8.001    0.0001412       -8.517\n",
      "13       -8.845       -7.908    0.0001447       -8.465\n",
      "14       -8.836       -7.830    0.0001461       -8.429\n",
      "======================================================\n",
      "* Minimum\n",
      "\n"
     ]
    }
   ],
   "source": [
    "var_12 = sm.tsa.VAR(data2.iloc[:200,[0,1]])\n",
    "order = var_12.select_order()['bic']"
   ]
  },
  {
   "cell_type": "code",
   "execution_count": 302,
   "metadata": {},
   "outputs": [],
   "source": [
    "var_12_results = var_12.fit(order)\n",
    "forecasts_var_12 = pd.DataFrame(var_12_results.forecast_interval(var_12_results.y[-order:],20)[1], columns=data2.columns[0:2], index=pd.date_range(start=data2.index[200], periods=20))"
   ]
  },
  {
   "cell_type": "code",
   "execution_count": 307,
   "metadata": {},
   "outputs": [
    {
     "name": "stdout",
     "output_type": "stream",
     "text": [
      "                 VAR Order Selection                  \n",
      "======================================================\n",
      "            aic          bic          fpe         hqic\n",
      "------------------------------------------------------\n",
      "0        -14.70       -14.63    4.127e-07       -14.67\n",
      "1        -17.18       -16.83    3.459e-08       -17.04\n",
      "2        -17.46      -16.84*    2.602e-08      -17.21*\n",
      "3        -17.50       -16.60    2.521e-08       -17.13\n",
      "4       -17.52*       -16.34   2.460e-08*       -17.04\n",
      "5        -17.43       -15.97    2.706e-08       -16.84\n",
      "6        -17.45       -15.71    2.665e-08       -16.74\n",
      "7        -17.40       -15.39    2.794e-08       -16.59\n",
      "8        -17.36       -15.08    2.918e-08       -16.44\n",
      "9        -17.30       -14.74    3.118e-08       -16.26\n",
      "10       -17.21       -14.37    3.456e-08       -16.06\n",
      "11       -17.16       -14.04    3.652e-08       -15.90\n",
      "12       -17.10       -13.70    3.936e-08       -15.72\n",
      "13       -17.04       -13.37    4.230e-08       -15.55\n",
      "14       -17.03       -13.07    4.374e-08       -15.42\n",
      "======================================================\n",
      "* Minimum\n",
      "\n"
     ]
    }
   ],
   "source": [
    "var_1234 = sm.tsa.VAR(data2.iloc[:200])\n",
    "order = var_1234.select_order()['bic']"
   ]
  },
  {
   "cell_type": "code",
   "execution_count": 308,
   "metadata": {},
   "outputs": [],
   "source": [
    "var_1234_results = var_1234.fit(order)\n",
    "forecast_var_1234 = pd.DataFrame(var_1234_results.forecast_interval(var_1234_results.y[-order:],20)[1], columns=data2.columns, index=pd.date_range(start=data2.index[200], periods=20))"
   ]
  },
  {
   "cell_type": "code",
   "execution_count": 309,
   "metadata": {},
   "outputs": [],
   "source": [
    "modelo_armadl = sm.tsa.ARMA(data2.iloc[:200]['V5'],order=(0,1), exog=data2.iloc[:200]['V6']).fit()"
   ]
  },
  {
   "cell_type": "code",
   "execution_count": 310,
   "metadata": {},
   "outputs": [
    {
     "name": "stderr",
     "output_type": "stream",
     "text": [
      "D:\\Anaconda3\\lib\\site-packages\\statsmodels\\base\\model.py:473: HessianInversionWarning: Inverting hessian failed, no bse or cov_params available\n",
      "  'available', HessianInversionWarning)\n",
      "D:\\Anaconda3\\lib\\site-packages\\statsmodels\\base\\model.py:496: ConvergenceWarning: Maximum Likelihood optimization failed to converge. Check mle_retvals\n",
      "  \"Check mle_retvals\", ConvergenceWarning)\n"
     ]
    }
   ],
   "source": [
    "min_order = sm.tsa.arma_order_select_ic(data2.iloc[:200]['V6'].values, ic='bic')['bic_min_order']\n",
    "exog_model = sm.tsa.ARMA(data2.iloc[:200]['V6'],order=min_order, exog=None).fit()\n",
    "forecast_exog = pd.DataFrame(exog_model.forecast(20)[0], columns=[data2.columns[0]], index=pd.date_range(start=data2.index[200], periods=20))"
   ]
  },
  {
   "cell_type": "code",
   "execution_count": 311,
   "metadata": {},
   "outputs": [],
   "source": [
    "#usando os valores reais de V6 como variável exógena para a previsão\n",
    "forecast_armadl = pd.DataFrame(modelo_armadl.forecast(20, exog=forecast_exog)[0], columns=[data2.columns[0]], index=pd.date_range(start=data2.index[200], periods=20))"
   ]
  },
  {
   "cell_type": "code",
   "execution_count": 312,
   "metadata": {},
   "outputs": [],
   "source": [
    "forecasts = pd.concat([data2.iloc[200:220],forecast_arima, forecast_armadl, forecasts_var_12, forecast_var_1234], axis=1, keys=['REAL','ARIMA','ARMADL','VAR_X12','VAR_X1234'])"
   ]
  },
  {
   "cell_type": "code",
   "execution_count": 313,
   "metadata": {},
   "outputs": [
    {
     "data": {
      "text/html": [
       "<div>\n",
       "<style>\n",
       "    .dataframe thead tr:only-child th {\n",
       "        text-align: right;\n",
       "    }\n",
       "\n",
       "    .dataframe thead th {\n",
       "        text-align: left;\n",
       "    }\n",
       "\n",
       "    .dataframe tbody tr th {\n",
       "        vertical-align: top;\n",
       "    }\n",
       "</style>\n",
       "<table border=\"1\" class=\"dataframe\">\n",
       "  <thead>\n",
       "    <tr>\n",
       "      <th></th>\n",
       "      <th colspan=\"5\" halign=\"left\">V5</th>\n",
       "      <th colspan=\"3\" halign=\"left\">V6</th>\n",
       "      <th colspan=\"2\" halign=\"left\">V7</th>\n",
       "      <th colspan=\"2\" halign=\"left\">V8</th>\n",
       "    </tr>\n",
       "    <tr>\n",
       "      <th></th>\n",
       "      <th>ARIMA</th>\n",
       "      <th>ARMADL</th>\n",
       "      <th>REAL</th>\n",
       "      <th>VAR_X12</th>\n",
       "      <th>VAR_X1234</th>\n",
       "      <th>REAL</th>\n",
       "      <th>VAR_X12</th>\n",
       "      <th>VAR_X1234</th>\n",
       "      <th>REAL</th>\n",
       "      <th>VAR_X1234</th>\n",
       "      <th>REAL</th>\n",
       "      <th>VAR_X1234</th>\n",
       "    </tr>\n",
       "  </thead>\n",
       "  <tbody>\n",
       "    <tr>\n",
       "      <th>2015-07-20</th>\n",
       "      <td>9.179161</td>\n",
       "      <td>9.165739</td>\n",
       "      <td>9.259743</td>\n",
       "      <td>8.993349</td>\n",
       "      <td>8.980965</td>\n",
       "      <td>10.100974</td>\n",
       "      <td>9.577619</td>\n",
       "      <td>9.570136</td>\n",
       "      <td>1.925047</td>\n",
       "      <td>1.727287</td>\n",
       "      <td>1.458293</td>\n",
       "      <td>1.189282</td>\n",
       "    </tr>\n",
       "    <tr>\n",
       "      <th>2015-07-21</th>\n",
       "      <td>9.179175</td>\n",
       "      <td>9.186980</td>\n",
       "      <td>9.202838</td>\n",
       "      <td>8.941714</td>\n",
       "      <td>8.919971</td>\n",
       "      <td>10.049207</td>\n",
       "      <td>9.556153</td>\n",
       "      <td>9.531031</td>\n",
       "      <td>2.027863</td>\n",
       "      <td>1.496495</td>\n",
       "      <td>1.427927</td>\n",
       "      <td>1.001362</td>\n",
       "    </tr>\n",
       "    <tr>\n",
       "      <th>2015-07-22</th>\n",
       "      <td>9.179189</td>\n",
       "      <td>9.193709</td>\n",
       "      <td>9.189545</td>\n",
       "      <td>8.908972</td>\n",
       "      <td>8.886397</td>\n",
       "      <td>10.140497</td>\n",
       "      <td>9.540754</td>\n",
       "      <td>9.520441</td>\n",
       "      <td>2.188135</td>\n",
       "      <td>1.379248</td>\n",
       "      <td>1.571935</td>\n",
       "      <td>0.899280</td>\n",
       "    </tr>\n",
       "    <tr>\n",
       "      <th>2015-07-23</th>\n",
       "      <td>9.179202</td>\n",
       "      <td>9.186486</td>\n",
       "      <td>9.188107</td>\n",
       "      <td>8.884840</td>\n",
       "      <td>8.869176</td>\n",
       "      <td>10.032196</td>\n",
       "      <td>9.527352</td>\n",
       "      <td>9.520921</td>\n",
       "      <td>2.234134</td>\n",
       "      <td>1.340917</td>\n",
       "      <td>1.607120</td>\n",
       "      <td>0.854579</td>\n",
       "    </tr>\n",
       "    <tr>\n",
       "      <th>2015-07-24</th>\n",
       "      <td>9.179216</td>\n",
       "      <td>9.179308</td>\n",
       "      <td>9.135635</td>\n",
       "      <td>8.879807</td>\n",
       "      <td>8.872559</td>\n",
       "      <td>9.971916</td>\n",
       "      <td>9.528445</td>\n",
       "      <td>9.533969</td>\n",
       "      <td>2.195903</td>\n",
       "      <td>1.341830</td>\n",
       "      <td>1.513645</td>\n",
       "      <td>0.842038</td>\n",
       "    </tr>\n",
       "  </tbody>\n",
       "</table>\n",
       "</div>"
      ],
      "text/plain": [
       "                  V5                                                 V6  \\\n",
       "               ARIMA    ARMADL      REAL   VAR_X12 VAR_X1234       REAL   \n",
       "2015-07-20  9.179161  9.165739  9.259743  8.993349  8.980965  10.100974   \n",
       "2015-07-21  9.179175  9.186980  9.202838  8.941714  8.919971  10.049207   \n",
       "2015-07-22  9.179189  9.193709  9.189545  8.908972  8.886397  10.140497   \n",
       "2015-07-23  9.179202  9.186486  9.188107  8.884840  8.869176  10.032196   \n",
       "2015-07-24  9.179216  9.179308  9.135635  8.879807  8.872559   9.971916   \n",
       "\n",
       "                                      V7                  V8            \n",
       "             VAR_X12 VAR_X1234      REAL VAR_X1234      REAL VAR_X1234  \n",
       "2015-07-20  9.577619  9.570136  1.925047  1.727287  1.458293  1.189282  \n",
       "2015-07-21  9.556153  9.531031  2.027863  1.496495  1.427927  1.001362  \n",
       "2015-07-22  9.540754  9.520441  2.188135  1.379248  1.571935  0.899280  \n",
       "2015-07-23  9.527352  9.520921  2.234134  1.340917  1.607120  0.854579  \n",
       "2015-07-24  9.528445  9.533969  2.195903  1.341830  1.513645  0.842038  "
      ]
     },
     "execution_count": 313,
     "metadata": {},
     "output_type": "execute_result"
    }
   ],
   "source": [
    "forecasts.swaplevel(axis=1).sort_index(axis=1).head()"
   ]
  },
  {
   "cell_type": "code",
   "execution_count": 314,
   "metadata": {},
   "outputs": [
    {
     "data": {
      "text/html": [
       "<style  type=\"text/css\" >\n",
       "</style>  \n",
       "<table id=\"T_2a9ec6ca_b79e_11e7_910a_848f69d24bc6\" > \n",
       "<thead>    <tr> \n",
       "        <th class=\"blank\" ></th> \n",
       "        <th class=\"blank level0\" ></th> \n",
       "        <th class=\"col_heading level0 col0\" >Erro Quadrático Médio</th> \n",
       "    </tr>    <tr> \n",
       "        <th class=\"index_name level0\" >Modelo</th> \n",
       "        <th class=\"index_name level1\" >Parâmetro</th> \n",
       "        <th class=\"blank\" ></th> \n",
       "    </tr></thead> \n",
       "<tbody>    <tr> \n",
       "        <th id=\"T_2a9ec6ca_b79e_11e7_910a_848f69d24bc6level0_row0\" class=\"row_heading level0 row0\" >ARIMA</th> \n",
       "        <th id=\"T_2a9ec6ca_b79e_11e7_910a_848f69d24bc6level1_row0\" class=\"row_heading level1 row0\" >V5</th> \n",
       "        <td id=\"T_2a9ec6ca_b79e_11e7_910a_848f69d24bc6row0_col0\" class=\"data row0 col0\" >0.165623</td> \n",
       "    </tr>    <tr> \n",
       "        <th id=\"T_2a9ec6ca_b79e_11e7_910a_848f69d24bc6level0_row1\" class=\"row_heading level0 row1\" >ARMADL</th> \n",
       "        <th id=\"T_2a9ec6ca_b79e_11e7_910a_848f69d24bc6level1_row1\" class=\"row_heading level1 row1\" >V5</th> \n",
       "        <td id=\"T_2a9ec6ca_b79e_11e7_910a_848f69d24bc6row1_col0\" class=\"data row1 col0\" >0.1648</td> \n",
       "    </tr>    <tr> \n",
       "        <th id=\"T_2a9ec6ca_b79e_11e7_910a_848f69d24bc6level0_row2\" class=\"row_heading level0 row2\" rowspan=2>VAR_X12</th> \n",
       "        <th id=\"T_2a9ec6ca_b79e_11e7_910a_848f69d24bc6level1_row2\" class=\"row_heading level1 row2\" >V5</th> \n",
       "        <td id=\"T_2a9ec6ca_b79e_11e7_910a_848f69d24bc6row2_col0\" class=\"data row2 col0\" >1.51696</td> \n",
       "    </tr>    <tr> \n",
       "        <th id=\"T_2a9ec6ca_b79e_11e7_910a_848f69d24bc6level1_row3\" class=\"row_heading level1 row3\" >V6</th> \n",
       "        <td id=\"T_2a9ec6ca_b79e_11e7_910a_848f69d24bc6row3_col0\" class=\"data row3 col0\" >3.64851</td> \n",
       "    </tr>    <tr> \n",
       "        <th id=\"T_2a9ec6ca_b79e_11e7_910a_848f69d24bc6level0_row4\" class=\"row_heading level0 row4\" rowspan=4>VAR_X1234</th> \n",
       "        <th id=\"T_2a9ec6ca_b79e_11e7_910a_848f69d24bc6level1_row4\" class=\"row_heading level1 row4\" >V5</th> \n",
       "        <td id=\"T_2a9ec6ca_b79e_11e7_910a_848f69d24bc6row4_col0\" class=\"data row4 col0\" >1.58596</td> \n",
       "    </tr>    <tr> \n",
       "        <th id=\"T_2a9ec6ca_b79e_11e7_910a_848f69d24bc6level1_row5\" class=\"row_heading level1 row5\" >V6</th> \n",
       "        <td id=\"T_2a9ec6ca_b79e_11e7_910a_848f69d24bc6row5_col0\" class=\"data row5 col0\" >3.71607</td> \n",
       "    </tr>    <tr> \n",
       "        <th id=\"T_2a9ec6ca_b79e_11e7_910a_848f69d24bc6level1_row6\" class=\"row_heading level1 row6\" >V7</th> \n",
       "        <td id=\"T_2a9ec6ca_b79e_11e7_910a_848f69d24bc6row6_col0\" class=\"data row6 col0\" >6.39654</td> \n",
       "    </tr>    <tr> \n",
       "        <th id=\"T_2a9ec6ca_b79e_11e7_910a_848f69d24bc6level1_row7\" class=\"row_heading level1 row7\" >V8</th> \n",
       "        <td id=\"T_2a9ec6ca_b79e_11e7_910a_848f69d24bc6row7_col0\" class=\"data row7 col0\" >5.31025</td> \n",
       "    </tr></tbody> \n",
       "</table> "
      ],
      "text/plain": [
       "<pandas.io.formats.style.Styler at 0x1f4292d6f60>"
      ]
     },
     "execution_count": 314,
     "metadata": {},
     "output_type": "execute_result"
    }
   ],
   "source": [
    "mqe_arima = ((forecasts['REAL'] - forecasts['ARIMA'])**2)\n",
    "mqe_armadl = ((forecasts['REAL'] - forecasts['ARMADL'])**2)\n",
    "mqe_varx12 = ((forecasts['REAL'] - forecasts['VAR_X12'])**2)\n",
    "mqe_varx1234 = ((forecasts['REAL'] - forecasts['VAR_X1234'])**2)\n",
    "mqe = pd.concat([mqe_arima, mqe_armadl, mqe_varx12, mqe_varx1234], axis=1, names=['Modelo', 'Parâmetro'], keys=['ARIMA','ARMADL','VAR_X12','VAR_X1234']).dropna(axis=1).sum()\n",
    "mqe.to_frame(name='Erro Quadrático Médio').style"
   ]
  },
  {
   "cell_type": "code",
   "execution_count": 379,
   "metadata": {},
   "outputs": [],
   "source": [
    "sim_data = data2.iloc[:200].copy()\n",
    "\n",
    "arima_data = sim_data['V5'].copy()\n",
    "for i in range(20):\n",
    "    modelo_arima = sm.tsa.ARIMA(arima_data,order=(0,1,1), exog=None).fit()\n",
    "    forecast_arima = pd.Series(modelo_arima.forecast(1)[0], index=[arima_data.index[-1] + pd.Timedelta(days=1)], name='V5')\n",
    "    arima_data = arima_data.append(forecast_arima)"
   ]
  },
  {
   "cell_type": "code",
   "execution_count": 368,
   "metadata": {},
   "outputs": [],
   "source": [
    "arima_data = sim_data['V5'].copy()\n",
    "modelo_arima = sm.tsa.ARIMA(arima_data,order=(0,1,1), exog=None).fit()"
   ]
  },
  {
   "cell_type": "code",
   "execution_count": 380,
   "metadata": {},
   "outputs": [
    {
     "data": {
      "text/plain": [
       "2015-01-01    9.155180\n",
       "2015-01-02    9.127209\n",
       "2015-01-03    9.264625\n",
       "2015-01-04    9.280383\n",
       "2015-01-05    9.173986\n",
       "2015-01-06    9.126748\n",
       "2015-01-07    8.975371\n",
       "2015-01-08    8.991859\n",
       "2015-01-09    9.216138\n",
       "2015-01-10    9.197883\n",
       "2015-01-11    8.990885\n",
       "2015-01-12    8.920708\n",
       "2015-01-13    9.163511\n",
       "2015-01-14    9.188468\n",
       "2015-01-15    9.195445\n",
       "2015-01-16    9.089904\n",
       "2015-01-17    9.076569\n",
       "2015-01-18    9.108703\n",
       "2015-01-19    8.956676\n",
       "2015-01-20    8.976364\n",
       "2015-01-21    9.052088\n",
       "2015-01-22    9.094461\n",
       "2015-01-23    9.339275\n",
       "2015-01-24    9.354720\n",
       "2015-01-25    9.221859\n",
       "2015-01-26    9.271109\n",
       "2015-01-27    9.226518\n",
       "2015-01-28    9.130925\n",
       "2015-01-29    9.365423\n",
       "2015-01-30    9.368671\n",
       "                ...   \n",
       "2015-07-10    9.246549\n",
       "2015-07-11    9.246838\n",
       "2015-07-12    9.296995\n",
       "2015-07-13    9.336969\n",
       "2015-07-14    9.223158\n",
       "2015-07-15    9.383919\n",
       "2015-07-16    9.292628\n",
       "2015-07-17    9.033404\n",
       "2015-07-18    8.964184\n",
       "2015-07-19    9.127055\n",
       "2015-07-20    9.179161\n",
       "2015-07-21    9.179173\n",
       "2015-07-22    9.179188\n",
       "2015-07-23    9.179201\n",
       "2015-07-24    9.179215\n",
       "2015-07-25    9.179228\n",
       "2015-07-26    9.179242\n",
       "2015-07-27    9.179255\n",
       "2015-07-28    9.179269\n",
       "2015-07-29    9.179282\n",
       "2015-07-30    9.179296\n",
       "2015-07-31    9.179309\n",
       "2015-08-01    9.179323\n",
       "2015-08-02    9.179336\n",
       "2015-08-03    9.179350\n",
       "2015-08-04    9.179363\n",
       "2015-08-05    9.179377\n",
       "2015-08-06    9.179390\n",
       "2015-08-07    9.179403\n",
       "2015-08-08    9.179417\n",
       "Name: V5, Length: 220, dtype: float64"
      ]
     },
     "execution_count": 380,
     "metadata": {},
     "output_type": "execute_result"
    }
   ],
   "source": [
    "arima_data"
   ]
  },
  {
   "cell_type": "code",
   "execution_count": 378,
   "metadata": {},
   "outputs": [
    {
     "data": {
      "text/plain": [
       "Timestamp('2015-07-20 00:00:00')"
      ]
     },
     "execution_count": 378,
     "metadata": {},
     "output_type": "execute_result"
    }
   ],
   "source": [
    "arima_data.index[-1]"
   ]
  },
  {
   "cell_type": "code",
   "execution_count": 321,
   "metadata": {},
   "outputs": [
    {
     "ename": "ValueError",
     "evalue": "Shape of passed values is (1, 20), indices imply (1, 1)",
     "output_type": "error",
     "traceback": [
      "\u001b[1;31m---------------------------------------------------------------------------\u001b[0m",
      "\u001b[1;31mValueError\u001b[0m                                Traceback (most recent call last)",
      "\u001b[1;32mD:\\Anaconda3\\lib\\site-packages\\pandas\\core\\internals.py\u001b[0m in \u001b[0;36mcreate_block_manager_from_blocks\u001b[1;34m(blocks, axes)\u001b[0m\n\u001b[0;32m   4295\u001b[0m \u001b[1;33m\u001b[0m\u001b[0m\n\u001b[1;32m-> 4296\u001b[1;33m         \u001b[0mmgr\u001b[0m \u001b[1;33m=\u001b[0m \u001b[0mBlockManager\u001b[0m\u001b[1;33m(\u001b[0m\u001b[0mblocks\u001b[0m\u001b[1;33m,\u001b[0m \u001b[0maxes\u001b[0m\u001b[1;33m)\u001b[0m\u001b[1;33m\u001b[0m\u001b[0m\n\u001b[0m\u001b[0;32m   4297\u001b[0m         \u001b[0mmgr\u001b[0m\u001b[1;33m.\u001b[0m\u001b[0m_consolidate_inplace\u001b[0m\u001b[1;33m(\u001b[0m\u001b[1;33m)\u001b[0m\u001b[1;33m\u001b[0m\u001b[0m\n",
      "\u001b[1;32mD:\\Anaconda3\\lib\\site-packages\\pandas\\core\\internals.py\u001b[0m in \u001b[0;36m__init__\u001b[1;34m(self, blocks, axes, do_integrity_check, fastpath)\u001b[0m\n\u001b[0;32m   2794\u001b[0m         \u001b[1;32mif\u001b[0m \u001b[0mdo_integrity_check\u001b[0m\u001b[1;33m:\u001b[0m\u001b[1;33m\u001b[0m\u001b[0m\n\u001b[1;32m-> 2795\u001b[1;33m             \u001b[0mself\u001b[0m\u001b[1;33m.\u001b[0m\u001b[0m_verify_integrity\u001b[0m\u001b[1;33m(\u001b[0m\u001b[1;33m)\u001b[0m\u001b[1;33m\u001b[0m\u001b[0m\n\u001b[0m\u001b[0;32m   2796\u001b[0m \u001b[1;33m\u001b[0m\u001b[0m\n",
      "\u001b[1;32mD:\\Anaconda3\\lib\\site-packages\\pandas\\core\\internals.py\u001b[0m in \u001b[0;36m_verify_integrity\u001b[1;34m(self)\u001b[0m\n\u001b[0;32m   3005\u001b[0m             \u001b[1;32mif\u001b[0m \u001b[0mblock\u001b[0m\u001b[1;33m.\u001b[0m\u001b[0m_verify_integrity\u001b[0m \u001b[1;32mand\u001b[0m \u001b[0mblock\u001b[0m\u001b[1;33m.\u001b[0m\u001b[0mshape\u001b[0m\u001b[1;33m[\u001b[0m\u001b[1;36m1\u001b[0m\u001b[1;33m:\u001b[0m\u001b[1;33m]\u001b[0m \u001b[1;33m!=\u001b[0m \u001b[0mmgr_shape\u001b[0m\u001b[1;33m[\u001b[0m\u001b[1;36m1\u001b[0m\u001b[1;33m:\u001b[0m\u001b[1;33m]\u001b[0m\u001b[1;33m:\u001b[0m\u001b[1;33m\u001b[0m\u001b[0m\n\u001b[1;32m-> 3006\u001b[1;33m                 \u001b[0mconstruction_error\u001b[0m\u001b[1;33m(\u001b[0m\u001b[0mtot_items\u001b[0m\u001b[1;33m,\u001b[0m \u001b[0mblock\u001b[0m\u001b[1;33m.\u001b[0m\u001b[0mshape\u001b[0m\u001b[1;33m[\u001b[0m\u001b[1;36m1\u001b[0m\u001b[1;33m:\u001b[0m\u001b[1;33m]\u001b[0m\u001b[1;33m,\u001b[0m \u001b[0mself\u001b[0m\u001b[1;33m.\u001b[0m\u001b[0maxes\u001b[0m\u001b[1;33m)\u001b[0m\u001b[1;33m\u001b[0m\u001b[0m\n\u001b[0m\u001b[0;32m   3007\u001b[0m         \u001b[1;32mif\u001b[0m \u001b[0mlen\u001b[0m\u001b[1;33m(\u001b[0m\u001b[0mself\u001b[0m\u001b[1;33m.\u001b[0m\u001b[0mitems\u001b[0m\u001b[1;33m)\u001b[0m \u001b[1;33m!=\u001b[0m \u001b[0mtot_items\u001b[0m\u001b[1;33m:\u001b[0m\u001b[1;33m\u001b[0m\u001b[0m\n",
      "\u001b[1;32mD:\\Anaconda3\\lib\\site-packages\\pandas\\core\\internals.py\u001b[0m in \u001b[0;36mconstruction_error\u001b[1;34m(tot_items, block_shape, axes, e)\u001b[0m\n\u001b[0;32m   4279\u001b[0m     raise ValueError(\"Shape of passed values is {0}, indices imply {1}\".format(\n\u001b[1;32m-> 4280\u001b[1;33m         passed, implied))\n\u001b[0m\u001b[0;32m   4281\u001b[0m \u001b[1;33m\u001b[0m\u001b[0m\n",
      "\u001b[1;31mValueError\u001b[0m: Shape of passed values is (1, 20), indices imply (1, 1)",
      "\nDuring handling of the above exception, another exception occurred:\n",
      "\u001b[1;31mValueError\u001b[0m                                Traceback (most recent call last)",
      "\u001b[1;32m<ipython-input-321-7efb6e9417c4>\u001b[0m in \u001b[0;36m<module>\u001b[1;34m()\u001b[0m\n\u001b[0;32m      2\u001b[0m \u001b[1;32mfor\u001b[0m \u001b[0mi\u001b[0m \u001b[1;32min\u001b[0m \u001b[0mrange\u001b[0m\u001b[1;33m(\u001b[0m\u001b[1;36m20\u001b[0m\u001b[1;33m)\u001b[0m\u001b[1;33m:\u001b[0m\u001b[1;33m\u001b[0m\u001b[0m\n\u001b[0;32m      3\u001b[0m     \u001b[0mmodelo_arima\u001b[0m \u001b[1;33m=\u001b[0m \u001b[0msm\u001b[0m\u001b[1;33m.\u001b[0m\u001b[0mtsa\u001b[0m\u001b[1;33m.\u001b[0m\u001b[0mARIMA\u001b[0m\u001b[1;33m(\u001b[0m\u001b[0msim_data\u001b[0m\u001b[1;33m[\u001b[0m\u001b[1;34m'V5'\u001b[0m\u001b[1;33m]\u001b[0m\u001b[1;33m,\u001b[0m\u001b[0morder\u001b[0m\u001b[1;33m=\u001b[0m\u001b[1;33m(\u001b[0m\u001b[1;36m0\u001b[0m\u001b[1;33m,\u001b[0m\u001b[1;36m1\u001b[0m\u001b[1;33m,\u001b[0m\u001b[1;36m1\u001b[0m\u001b[1;33m)\u001b[0m\u001b[1;33m,\u001b[0m \u001b[0mexog\u001b[0m\u001b[1;33m=\u001b[0m\u001b[1;32mNone\u001b[0m\u001b[1;33m)\u001b[0m\u001b[1;33m.\u001b[0m\u001b[0mfit\u001b[0m\u001b[1;33m(\u001b[0m\u001b[1;33m)\u001b[0m\u001b[1;33m\u001b[0m\u001b[0m\n\u001b[1;32m----> 4\u001b[1;33m     \u001b[0mforecast_arima\u001b[0m \u001b[1;33m=\u001b[0m \u001b[0mpd\u001b[0m\u001b[1;33m.\u001b[0m\u001b[0mDataFrame\u001b[0m\u001b[1;33m(\u001b[0m\u001b[0mmodelo_arima\u001b[0m\u001b[1;33m.\u001b[0m\u001b[0mforecast\u001b[0m\u001b[1;33m(\u001b[0m\u001b[1;36m20\u001b[0m\u001b[1;33m)\u001b[0m\u001b[1;33m[\u001b[0m\u001b[1;36m0\u001b[0m\u001b[1;33m]\u001b[0m\u001b[1;33m,\u001b[0m \u001b[0mcolumns\u001b[0m\u001b[1;33m=\u001b[0m\u001b[1;33m[\u001b[0m\u001b[0msim_data\u001b[0m\u001b[1;33m.\u001b[0m\u001b[0mcolumns\u001b[0m\u001b[1;33m[\u001b[0m\u001b[1;36m0\u001b[0m\u001b[1;33m]\u001b[0m\u001b[1;33m]\u001b[0m\u001b[1;33m,\u001b[0m \u001b[0mindex\u001b[0m\u001b[1;33m=\u001b[0m\u001b[0mpd\u001b[0m\u001b[1;33m.\u001b[0m\u001b[0mdate_range\u001b[0m\u001b[1;33m(\u001b[0m\u001b[0mstart\u001b[0m\u001b[1;33m=\u001b[0m\u001b[0msim_data\u001b[0m\u001b[1;33m.\u001b[0m\u001b[0mindex\u001b[0m\u001b[1;33m[\u001b[0m\u001b[1;33m-\u001b[0m\u001b[1;36m1\u001b[0m\u001b[1;33m]\u001b[0m\u001b[1;33m,\u001b[0m \u001b[0mperiods\u001b[0m\u001b[1;33m=\u001b[0m\u001b[1;36m1\u001b[0m\u001b[1;33m)\u001b[0m\u001b[1;33m)\u001b[0m\u001b[1;33m\u001b[0m\u001b[0m\n\u001b[0m\u001b[0;32m      5\u001b[0m \u001b[1;33m\u001b[0m\u001b[0m\n\u001b[0;32m      6\u001b[0m     \u001b[0mvar_12\u001b[0m \u001b[1;33m=\u001b[0m \u001b[0msm\u001b[0m\u001b[1;33m.\u001b[0m\u001b[0mtsa\u001b[0m\u001b[1;33m.\u001b[0m\u001b[0mVAR\u001b[0m\u001b[1;33m(\u001b[0m\u001b[0msim_data\u001b[0m\u001b[1;33m.\u001b[0m\u001b[0miloc\u001b[0m\u001b[1;33m[\u001b[0m\u001b[1;33m:\u001b[0m\u001b[1;33m,\u001b[0m\u001b[1;33m[\u001b[0m\u001b[1;36m0\u001b[0m\u001b[1;33m,\u001b[0m\u001b[1;36m1\u001b[0m\u001b[1;33m]\u001b[0m\u001b[1;33m]\u001b[0m\u001b[1;33m)\u001b[0m\u001b[1;33m\u001b[0m\u001b[0m\n",
      "\u001b[1;32mD:\\Anaconda3\\lib\\site-packages\\pandas\\core\\frame.py\u001b[0m in \u001b[0;36m__init__\u001b[1;34m(self, data, index, columns, dtype, copy)\u001b[0m\n\u001b[0;32m    304\u001b[0m             \u001b[1;32melse\u001b[0m\u001b[1;33m:\u001b[0m\u001b[1;33m\u001b[0m\u001b[0m\n\u001b[0;32m    305\u001b[0m                 mgr = self._init_ndarray(data, index, columns, dtype=dtype,\n\u001b[1;32m--> 306\u001b[1;33m                                          copy=copy)\n\u001b[0m\u001b[0;32m    307\u001b[0m         \u001b[1;32melif\u001b[0m \u001b[0misinstance\u001b[0m\u001b[1;33m(\u001b[0m\u001b[0mdata\u001b[0m\u001b[1;33m,\u001b[0m \u001b[1;33m(\u001b[0m\u001b[0mlist\u001b[0m\u001b[1;33m,\u001b[0m \u001b[0mtypes\u001b[0m\u001b[1;33m.\u001b[0m\u001b[0mGeneratorType\u001b[0m\u001b[1;33m)\u001b[0m\u001b[1;33m)\u001b[0m\u001b[1;33m:\u001b[0m\u001b[1;33m\u001b[0m\u001b[0m\n\u001b[0;32m    308\u001b[0m             \u001b[1;32mif\u001b[0m \u001b[0misinstance\u001b[0m\u001b[1;33m(\u001b[0m\u001b[0mdata\u001b[0m\u001b[1;33m,\u001b[0m \u001b[0mtypes\u001b[0m\u001b[1;33m.\u001b[0m\u001b[0mGeneratorType\u001b[0m\u001b[1;33m)\u001b[0m\u001b[1;33m:\u001b[0m\u001b[1;33m\u001b[0m\u001b[0m\n",
      "\u001b[1;32mD:\\Anaconda3\\lib\\site-packages\\pandas\\core\\frame.py\u001b[0m in \u001b[0;36m_init_ndarray\u001b[1;34m(self, values, index, columns, dtype, copy)\u001b[0m\n\u001b[0;32m    481\u001b[0m             \u001b[0mvalues\u001b[0m \u001b[1;33m=\u001b[0m \u001b[0mmaybe_infer_to_datetimelike\u001b[0m\u001b[1;33m(\u001b[0m\u001b[0mvalues\u001b[0m\u001b[1;33m)\u001b[0m\u001b[1;33m\u001b[0m\u001b[0m\n\u001b[0;32m    482\u001b[0m \u001b[1;33m\u001b[0m\u001b[0m\n\u001b[1;32m--> 483\u001b[1;33m         \u001b[1;32mreturn\u001b[0m \u001b[0mcreate_block_manager_from_blocks\u001b[0m\u001b[1;33m(\u001b[0m\u001b[1;33m[\u001b[0m\u001b[0mvalues\u001b[0m\u001b[1;33m]\u001b[0m\u001b[1;33m,\u001b[0m \u001b[1;33m[\u001b[0m\u001b[0mcolumns\u001b[0m\u001b[1;33m,\u001b[0m \u001b[0mindex\u001b[0m\u001b[1;33m]\u001b[0m\u001b[1;33m)\u001b[0m\u001b[1;33m\u001b[0m\u001b[0m\n\u001b[0m\u001b[0;32m    484\u001b[0m \u001b[1;33m\u001b[0m\u001b[0m\n\u001b[0;32m    485\u001b[0m     \u001b[1;33m@\u001b[0m\u001b[0mproperty\u001b[0m\u001b[1;33m\u001b[0m\u001b[0m\n",
      "\u001b[1;32mD:\\Anaconda3\\lib\\site-packages\\pandas\\core\\internals.py\u001b[0m in \u001b[0;36mcreate_block_manager_from_blocks\u001b[1;34m(blocks, axes)\u001b[0m\n\u001b[0;32m   4301\u001b[0m         \u001b[0mblocks\u001b[0m \u001b[1;33m=\u001b[0m \u001b[1;33m[\u001b[0m\u001b[0mgetattr\u001b[0m\u001b[1;33m(\u001b[0m\u001b[0mb\u001b[0m\u001b[1;33m,\u001b[0m \u001b[1;34m'values'\u001b[0m\u001b[1;33m,\u001b[0m \u001b[0mb\u001b[0m\u001b[1;33m)\u001b[0m \u001b[1;32mfor\u001b[0m \u001b[0mb\u001b[0m \u001b[1;32min\u001b[0m \u001b[0mblocks\u001b[0m\u001b[1;33m]\u001b[0m\u001b[1;33m\u001b[0m\u001b[0m\n\u001b[0;32m   4302\u001b[0m         \u001b[0mtot_items\u001b[0m \u001b[1;33m=\u001b[0m \u001b[0msum\u001b[0m\u001b[1;33m(\u001b[0m\u001b[0mb\u001b[0m\u001b[1;33m.\u001b[0m\u001b[0mshape\u001b[0m\u001b[1;33m[\u001b[0m\u001b[1;36m0\u001b[0m\u001b[1;33m]\u001b[0m \u001b[1;32mfor\u001b[0m \u001b[0mb\u001b[0m \u001b[1;32min\u001b[0m \u001b[0mblocks\u001b[0m\u001b[1;33m)\u001b[0m\u001b[1;33m\u001b[0m\u001b[0m\n\u001b[1;32m-> 4303\u001b[1;33m         \u001b[0mconstruction_error\u001b[0m\u001b[1;33m(\u001b[0m\u001b[0mtot_items\u001b[0m\u001b[1;33m,\u001b[0m \u001b[0mblocks\u001b[0m\u001b[1;33m[\u001b[0m\u001b[1;36m0\u001b[0m\u001b[1;33m]\u001b[0m\u001b[1;33m.\u001b[0m\u001b[0mshape\u001b[0m\u001b[1;33m[\u001b[0m\u001b[1;36m1\u001b[0m\u001b[1;33m:\u001b[0m\u001b[1;33m]\u001b[0m\u001b[1;33m,\u001b[0m \u001b[0maxes\u001b[0m\u001b[1;33m,\u001b[0m \u001b[0me\u001b[0m\u001b[1;33m)\u001b[0m\u001b[1;33m\u001b[0m\u001b[0m\n\u001b[0m\u001b[0;32m   4304\u001b[0m \u001b[1;33m\u001b[0m\u001b[0m\n\u001b[0;32m   4305\u001b[0m \u001b[1;33m\u001b[0m\u001b[0m\n",
      "\u001b[1;32mD:\\Anaconda3\\lib\\site-packages\\pandas\\core\\internals.py\u001b[0m in \u001b[0;36mconstruction_error\u001b[1;34m(tot_items, block_shape, axes, e)\u001b[0m\n\u001b[0;32m   4278\u001b[0m         \u001b[1;32mraise\u001b[0m \u001b[0mValueError\u001b[0m\u001b[1;33m(\u001b[0m\u001b[1;34m\"Empty data passed with indices specified.\"\u001b[0m\u001b[1;33m)\u001b[0m\u001b[1;33m\u001b[0m\u001b[0m\n\u001b[0;32m   4279\u001b[0m     raise ValueError(\"Shape of passed values is {0}, indices imply {1}\".format(\n\u001b[1;32m-> 4280\u001b[1;33m         passed, implied))\n\u001b[0m\u001b[0;32m   4281\u001b[0m \u001b[1;33m\u001b[0m\u001b[0m\n\u001b[0;32m   4282\u001b[0m \u001b[1;33m\u001b[0m\u001b[0m\n",
      "\u001b[1;31mValueError\u001b[0m: Shape of passed values is (1, 20), indices imply (1, 1)"
     ]
    }
   ],
   "source": [
    "    var_12 = sm.tsa.VAR(sim_data.iloc[:,[0,1]])\n",
    "    order = 2\n",
    "    var_12_results = var_12.fit(order)\n",
    "    forecasts_var_12 = pd.DataFrame(var_12_results.forecast_interval(var_12_results.y[-order:],1)[1], columns=sim_data.columns[0:2], index=pd.date_range(start=sim_data.index[-1], periods=1))\n",
    "\n",
    "    var_1234 = sm.tsa.VAR(data2.iloc[:200])\n",
    "    order = 2\n",
    "    var_1234_results = var_1234.fit(order)\n",
    "    forecast_var_1234 = pd.DataFrame(var_1234_results.forecast_interval(var_1234_results.y[-order:],1)[1], columns=data2.columns, index=pd.date_range(start=data2.index[200], periods=20))\n",
    "\n",
    "    modelo_armadl = sm.tsa.ARMA(data2.iloc[:200]['V5'],order=(0,1), exog=data2.iloc[:200]['V6']).fit()\n",
    "    min_order = sm.tsa.arma_order_select_ic(data2.iloc[:200]['V6'].values, ic='bic')['bic_min_order']\n",
    "    exog_model = sm.tsa.ARMA(data2.iloc[:200]['V6'],order=min_order, exog=None).fit()\n",
    "    forecast_exog = pd.DataFrame(exog_model.forecast(1)[0], columns=[data2.columns[0]], index=pd.date_range(start=data2.index[200], periods=1))\n",
    "    forecast_armadl = pd.DataFrame(modelo_armadl.forecast(1, exog=forecast_exog)[0], columns=[data2.columns[0]], index=pd.date_range(start=data2.index[200], periods=1))\n",
    "    #forecasts = pd.concat([data2.iloc[200:220],forecast_arima, forecast_armadl, forecasts_var_12, forecast_var_1234], axis=1, keys=['REAL','ARIMA','ARMADL','VAR_X12','VAR_X1234'])"
   ]
  }
 ],
 "metadata": {
  "kernelspec": {
   "display_name": "Python 3",
   "language": "python",
   "name": "python3"
  },
  "language_info": {
   "codemirror_mode": {
    "name": "ipython",
    "version": 3
   },
   "file_extension": ".py",
   "mimetype": "text/x-python",
   "name": "python",
   "nbconvert_exporter": "python",
   "pygments_lexer": "ipython3",
   "version": "3.6.2"
  }
 },
 "nbformat": 4,
 "nbformat_minor": 2
}
